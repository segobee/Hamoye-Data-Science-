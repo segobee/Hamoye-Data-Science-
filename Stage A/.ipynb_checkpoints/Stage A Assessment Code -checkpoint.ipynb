{
 "cells": [
  {
   "cell_type": "code",
   "execution_count": 1,
   "id": "a2db0c19",
   "metadata": {},
   "outputs": [],
   "source": [
    "import numpy as np\n",
    "import pandas as pd"
   ]
  },
  {
   "cell_type": "code",
   "execution_count": 2,
   "id": "6d1fb734",
   "metadata": {},
   "outputs": [
    {
     "ename": "FileNotFoundError",
     "evalue": "[Errno 2] No such file or directory: 'FoodBalanceSheets_E_Africa_NOFLAG.csv'",
     "output_type": "error",
     "traceback": [
      "\u001b[0;31m---------------------------------------------------------------------------\u001b[0m",
      "\u001b[0;31mFileNotFoundError\u001b[0m                         Traceback (most recent call last)",
      "\u001b[0;32m<ipython-input-2-77945ad9af59>\u001b[0m in \u001b[0;36m<module>\u001b[0;34m\u001b[0m\n\u001b[1;32m      1\u001b[0m \u001b[0;31m# importing and storing the data\u001b[0m\u001b[0;34m\u001b[0m\u001b[0;34m\u001b[0m\u001b[0;34m\u001b[0m\u001b[0m\n\u001b[1;32m      2\u001b[0m \u001b[0;34m\u001b[0m\u001b[0m\n\u001b[0;32m----> 3\u001b[0;31m \u001b[0mfood_data\u001b[0m \u001b[0;34m=\u001b[0m \u001b[0mpd\u001b[0m\u001b[0;34m.\u001b[0m\u001b[0mread_csv\u001b[0m\u001b[0;34m(\u001b[0m\u001b[0;34m'FoodBalanceSheets_E_Africa_NOFLAG.csv'\u001b[0m\u001b[0;34m,\u001b[0m \u001b[0merror_bad_lines\u001b[0m \u001b[0;34m=\u001b[0m \u001b[0;32mTrue\u001b[0m\u001b[0;34m)\u001b[0m\u001b[0;34m\u001b[0m\u001b[0;34m\u001b[0m\u001b[0m\n\u001b[0m",
      "\u001b[0;32m~/opt/anaconda3/lib/python3.8/site-packages/pandas/io/parsers.py\u001b[0m in \u001b[0;36mread_csv\u001b[0;34m(filepath_or_buffer, sep, delimiter, header, names, index_col, usecols, squeeze, prefix, mangle_dupe_cols, dtype, engine, converters, true_values, false_values, skipinitialspace, skiprows, skipfooter, nrows, na_values, keep_default_na, na_filter, verbose, skip_blank_lines, parse_dates, infer_datetime_format, keep_date_col, date_parser, dayfirst, cache_dates, iterator, chunksize, compression, thousands, decimal, lineterminator, quotechar, quoting, doublequote, escapechar, comment, encoding, dialect, error_bad_lines, warn_bad_lines, delim_whitespace, low_memory, memory_map, float_precision, storage_options)\u001b[0m\n\u001b[1;32m    608\u001b[0m     \u001b[0mkwds\u001b[0m\u001b[0;34m.\u001b[0m\u001b[0mupdate\u001b[0m\u001b[0;34m(\u001b[0m\u001b[0mkwds_defaults\u001b[0m\u001b[0;34m)\u001b[0m\u001b[0;34m\u001b[0m\u001b[0;34m\u001b[0m\u001b[0m\n\u001b[1;32m    609\u001b[0m \u001b[0;34m\u001b[0m\u001b[0m\n\u001b[0;32m--> 610\u001b[0;31m     \u001b[0;32mreturn\u001b[0m \u001b[0m_read\u001b[0m\u001b[0;34m(\u001b[0m\u001b[0mfilepath_or_buffer\u001b[0m\u001b[0;34m,\u001b[0m \u001b[0mkwds\u001b[0m\u001b[0;34m)\u001b[0m\u001b[0;34m\u001b[0m\u001b[0;34m\u001b[0m\u001b[0m\n\u001b[0m\u001b[1;32m    611\u001b[0m \u001b[0;34m\u001b[0m\u001b[0m\n\u001b[1;32m    612\u001b[0m \u001b[0;34m\u001b[0m\u001b[0m\n",
      "\u001b[0;32m~/opt/anaconda3/lib/python3.8/site-packages/pandas/io/parsers.py\u001b[0m in \u001b[0;36m_read\u001b[0;34m(filepath_or_buffer, kwds)\u001b[0m\n\u001b[1;32m    460\u001b[0m \u001b[0;34m\u001b[0m\u001b[0m\n\u001b[1;32m    461\u001b[0m     \u001b[0;31m# Create the parser.\u001b[0m\u001b[0;34m\u001b[0m\u001b[0;34m\u001b[0m\u001b[0;34m\u001b[0m\u001b[0m\n\u001b[0;32m--> 462\u001b[0;31m     \u001b[0mparser\u001b[0m \u001b[0;34m=\u001b[0m \u001b[0mTextFileReader\u001b[0m\u001b[0;34m(\u001b[0m\u001b[0mfilepath_or_buffer\u001b[0m\u001b[0;34m,\u001b[0m \u001b[0;34m**\u001b[0m\u001b[0mkwds\u001b[0m\u001b[0;34m)\u001b[0m\u001b[0;34m\u001b[0m\u001b[0;34m\u001b[0m\u001b[0m\n\u001b[0m\u001b[1;32m    463\u001b[0m \u001b[0;34m\u001b[0m\u001b[0m\n\u001b[1;32m    464\u001b[0m     \u001b[0;32mif\u001b[0m \u001b[0mchunksize\u001b[0m \u001b[0;32mor\u001b[0m \u001b[0miterator\u001b[0m\u001b[0;34m:\u001b[0m\u001b[0;34m\u001b[0m\u001b[0;34m\u001b[0m\u001b[0m\n",
      "\u001b[0;32m~/opt/anaconda3/lib/python3.8/site-packages/pandas/io/parsers.py\u001b[0m in \u001b[0;36m__init__\u001b[0;34m(self, f, engine, **kwds)\u001b[0m\n\u001b[1;32m    817\u001b[0m             \u001b[0mself\u001b[0m\u001b[0;34m.\u001b[0m\u001b[0moptions\u001b[0m\u001b[0;34m[\u001b[0m\u001b[0;34m\"has_index_names\"\u001b[0m\u001b[0;34m]\u001b[0m \u001b[0;34m=\u001b[0m \u001b[0mkwds\u001b[0m\u001b[0;34m[\u001b[0m\u001b[0;34m\"has_index_names\"\u001b[0m\u001b[0;34m]\u001b[0m\u001b[0;34m\u001b[0m\u001b[0;34m\u001b[0m\u001b[0m\n\u001b[1;32m    818\u001b[0m \u001b[0;34m\u001b[0m\u001b[0m\n\u001b[0;32m--> 819\u001b[0;31m         \u001b[0mself\u001b[0m\u001b[0;34m.\u001b[0m\u001b[0m_engine\u001b[0m \u001b[0;34m=\u001b[0m \u001b[0mself\u001b[0m\u001b[0;34m.\u001b[0m\u001b[0m_make_engine\u001b[0m\u001b[0;34m(\u001b[0m\u001b[0mself\u001b[0m\u001b[0;34m.\u001b[0m\u001b[0mengine\u001b[0m\u001b[0;34m)\u001b[0m\u001b[0;34m\u001b[0m\u001b[0;34m\u001b[0m\u001b[0m\n\u001b[0m\u001b[1;32m    820\u001b[0m \u001b[0;34m\u001b[0m\u001b[0m\n\u001b[1;32m    821\u001b[0m     \u001b[0;32mdef\u001b[0m \u001b[0mclose\u001b[0m\u001b[0;34m(\u001b[0m\u001b[0mself\u001b[0m\u001b[0;34m)\u001b[0m\u001b[0;34m:\u001b[0m\u001b[0;34m\u001b[0m\u001b[0;34m\u001b[0m\u001b[0m\n",
      "\u001b[0;32m~/opt/anaconda3/lib/python3.8/site-packages/pandas/io/parsers.py\u001b[0m in \u001b[0;36m_make_engine\u001b[0;34m(self, engine)\u001b[0m\n\u001b[1;32m   1048\u001b[0m             )\n\u001b[1;32m   1049\u001b[0m         \u001b[0;31m# error: Too many arguments for \"ParserBase\"\u001b[0m\u001b[0;34m\u001b[0m\u001b[0;34m\u001b[0m\u001b[0;34m\u001b[0m\u001b[0m\n\u001b[0;32m-> 1050\u001b[0;31m         \u001b[0;32mreturn\u001b[0m \u001b[0mmapping\u001b[0m\u001b[0;34m[\u001b[0m\u001b[0mengine\u001b[0m\u001b[0;34m]\u001b[0m\u001b[0;34m(\u001b[0m\u001b[0mself\u001b[0m\u001b[0;34m.\u001b[0m\u001b[0mf\u001b[0m\u001b[0;34m,\u001b[0m \u001b[0;34m**\u001b[0m\u001b[0mself\u001b[0m\u001b[0;34m.\u001b[0m\u001b[0moptions\u001b[0m\u001b[0;34m)\u001b[0m  \u001b[0;31m# type: ignore[call-arg]\u001b[0m\u001b[0;34m\u001b[0m\u001b[0;34m\u001b[0m\u001b[0m\n\u001b[0m\u001b[1;32m   1051\u001b[0m \u001b[0;34m\u001b[0m\u001b[0m\n\u001b[1;32m   1052\u001b[0m     \u001b[0;32mdef\u001b[0m \u001b[0m_failover_to_python\u001b[0m\u001b[0;34m(\u001b[0m\u001b[0mself\u001b[0m\u001b[0;34m)\u001b[0m\u001b[0;34m:\u001b[0m\u001b[0;34m\u001b[0m\u001b[0;34m\u001b[0m\u001b[0m\n",
      "\u001b[0;32m~/opt/anaconda3/lib/python3.8/site-packages/pandas/io/parsers.py\u001b[0m in \u001b[0;36m__init__\u001b[0;34m(self, src, **kwds)\u001b[0m\n\u001b[1;32m   1865\u001b[0m \u001b[0;34m\u001b[0m\u001b[0m\n\u001b[1;32m   1866\u001b[0m         \u001b[0;31m# open handles\u001b[0m\u001b[0;34m\u001b[0m\u001b[0;34m\u001b[0m\u001b[0;34m\u001b[0m\u001b[0m\n\u001b[0;32m-> 1867\u001b[0;31m         \u001b[0mself\u001b[0m\u001b[0;34m.\u001b[0m\u001b[0m_open_handles\u001b[0m\u001b[0;34m(\u001b[0m\u001b[0msrc\u001b[0m\u001b[0;34m,\u001b[0m \u001b[0mkwds\u001b[0m\u001b[0;34m)\u001b[0m\u001b[0;34m\u001b[0m\u001b[0;34m\u001b[0m\u001b[0m\n\u001b[0m\u001b[1;32m   1868\u001b[0m         \u001b[0;32massert\u001b[0m \u001b[0mself\u001b[0m\u001b[0;34m.\u001b[0m\u001b[0mhandles\u001b[0m \u001b[0;32mis\u001b[0m \u001b[0;32mnot\u001b[0m \u001b[0;32mNone\u001b[0m\u001b[0;34m\u001b[0m\u001b[0;34m\u001b[0m\u001b[0m\n\u001b[1;32m   1869\u001b[0m         \u001b[0;32mfor\u001b[0m \u001b[0mkey\u001b[0m \u001b[0;32min\u001b[0m \u001b[0;34m(\u001b[0m\u001b[0;34m\"storage_options\"\u001b[0m\u001b[0;34m,\u001b[0m \u001b[0;34m\"encoding\"\u001b[0m\u001b[0;34m,\u001b[0m \u001b[0;34m\"memory_map\"\u001b[0m\u001b[0;34m,\u001b[0m \u001b[0;34m\"compression\"\u001b[0m\u001b[0;34m)\u001b[0m\u001b[0;34m:\u001b[0m\u001b[0;34m\u001b[0m\u001b[0;34m\u001b[0m\u001b[0m\n",
      "\u001b[0;32m~/opt/anaconda3/lib/python3.8/site-packages/pandas/io/parsers.py\u001b[0m in \u001b[0;36m_open_handles\u001b[0;34m(self, src, kwds)\u001b[0m\n\u001b[1;32m   1360\u001b[0m         \u001b[0mLet\u001b[0m \u001b[0mthe\u001b[0m \u001b[0mreaders\u001b[0m \u001b[0mopen\u001b[0m \u001b[0mIOHanldes\u001b[0m \u001b[0mafter\u001b[0m \u001b[0mthey\u001b[0m \u001b[0mare\u001b[0m \u001b[0mdone\u001b[0m \u001b[0;32mwith\u001b[0m \u001b[0mtheir\u001b[0m \u001b[0mpotential\u001b[0m \u001b[0mraises\u001b[0m\u001b[0;34m.\u001b[0m\u001b[0;34m\u001b[0m\u001b[0;34m\u001b[0m\u001b[0m\n\u001b[1;32m   1361\u001b[0m         \"\"\"\n\u001b[0;32m-> 1362\u001b[0;31m         self.handles = get_handle(\n\u001b[0m\u001b[1;32m   1363\u001b[0m             \u001b[0msrc\u001b[0m\u001b[0;34m,\u001b[0m\u001b[0;34m\u001b[0m\u001b[0;34m\u001b[0m\u001b[0m\n\u001b[1;32m   1364\u001b[0m             \u001b[0;34m\"r\"\u001b[0m\u001b[0;34m,\u001b[0m\u001b[0;34m\u001b[0m\u001b[0;34m\u001b[0m\u001b[0m\n",
      "\u001b[0;32m~/opt/anaconda3/lib/python3.8/site-packages/pandas/io/common.py\u001b[0m in \u001b[0;36mget_handle\u001b[0;34m(path_or_buf, mode, encoding, compression, memory_map, is_text, errors, storage_options)\u001b[0m\n\u001b[1;32m    640\u001b[0m                 \u001b[0merrors\u001b[0m \u001b[0;34m=\u001b[0m \u001b[0;34m\"replace\"\u001b[0m\u001b[0;34m\u001b[0m\u001b[0;34m\u001b[0m\u001b[0m\n\u001b[1;32m    641\u001b[0m             \u001b[0;31m# Encoding\u001b[0m\u001b[0;34m\u001b[0m\u001b[0;34m\u001b[0m\u001b[0;34m\u001b[0m\u001b[0m\n\u001b[0;32m--> 642\u001b[0;31m             handle = open(\n\u001b[0m\u001b[1;32m    643\u001b[0m                 \u001b[0mhandle\u001b[0m\u001b[0;34m,\u001b[0m\u001b[0;34m\u001b[0m\u001b[0;34m\u001b[0m\u001b[0m\n\u001b[1;32m    644\u001b[0m                 \u001b[0mioargs\u001b[0m\u001b[0;34m.\u001b[0m\u001b[0mmode\u001b[0m\u001b[0;34m,\u001b[0m\u001b[0;34m\u001b[0m\u001b[0;34m\u001b[0m\u001b[0m\n",
      "\u001b[0;31mFileNotFoundError\u001b[0m: [Errno 2] No such file or directory: 'FoodBalanceSheets_E_Africa_NOFLAG.csv'"
     ]
    }
   ],
   "source": [
    "# importing and storing the data \n",
    "\n",
    "food_data = pd.read_csv('FoodBalanceSheets_E_Africa_NOFLAG.csv', error_bad_lines = True)"
   ]
  },
  {
   "cell_type": "code",
   "execution_count": null,
   "id": "285cd9a3",
   "metadata": {},
   "outputs": [],
   "source": [
    "# reading the data\n",
    "\n",
    "food_data"
   ]
  },
  {
   "cell_type": "markdown",
   "id": "a95f8a4d",
   "metadata": {},
   "source": [
    "# Question 11"
   ]
  },
  {
   "cell_type": "markdown",
   "id": "db99affc",
   "metadata": {},
   "source": [
    "    What is the total sum of Animal Fat produced in 2014 and 2017 respectively?"
   ]
  },
  {
   "cell_type": "code",
   "execution_count": null,
   "id": "167f96f5",
   "metadata": {},
   "outputs": [],
   "source": [
    "# Grouping by Item\n",
    "\n",
    "food_data.groupby('Item').sum()"
   ]
  },
  {
   "cell_type": "markdown",
   "id": "c8dfed87",
   "metadata": {},
   "source": [
    "    total sum of Animal Fat produced in 2014\n",
    "           \n",
    "           =209460.54"
   ]
  },
  {
   "cell_type": "markdown",
   "id": "9c333686",
   "metadata": {},
   "source": [
    "    total sum of Animal Fat produced in 2017\n",
    "    \n",
    "            =269617.53"
   ]
  },
  {
   "cell_type": "markdown",
   "id": "862e4d0d",
   "metadata": {},
   "source": [
    "# Question 12"
   ]
  },
  {
   "cell_type": "markdown",
   "id": "e7181b10",
   "metadata": {},
   "source": [
    "    What is the mean and standard deviation across the whole dataset for the year 2015 to 3 decimal places?"
   ]
  },
  {
   "cell_type": "code",
   "execution_count": null,
   "id": "05ee34e9",
   "metadata": {},
   "outputs": [],
   "source": [
    "# mean of the data for 2015\n",
    "\n",
    "food_data.mean()"
   ]
  },
  {
   "cell_type": "markdown",
   "id": "bb5f3961",
   "metadata": {},
   "source": [
    "    mean Y2015 = 135.236"
   ]
  },
  {
   "cell_type": "code",
   "execution_count": null,
   "id": "7c9a56f4",
   "metadata": {},
   "outputs": [],
   "source": [
    "# standard deviation\n",
    "\n",
    "food_data.std()"
   ]
  },
  {
   "cell_type": "markdown",
   "id": "65994d49",
   "metadata": {},
   "source": [
    "        standard deviation Y2015 = 1603.404"
   ]
  },
  {
   "cell_type": "markdown",
   "id": "d598b7c8",
   "metadata": {},
   "source": [
    "# Question 13"
   ]
  },
  {
   "cell_type": "markdown",
   "id": "fdb9f424",
   "metadata": {},
   "source": [
    "    What is the total number and percentage of missing data in 2016 to 2 decimal places?"
   ]
  },
  {
   "cell_type": "code",
   "execution_count": null,
   "id": "968d9ee4",
   "metadata": {},
   "outputs": [],
   "source": [
    "# total number of missing data in 2016\n",
    "\n",
    "missing_data = food_data['Y2016'].isnull().sum()\n",
    "missing_data"
   ]
  },
  {
   "cell_type": "code",
   "execution_count": null,
   "id": "7edec82b",
   "metadata": {},
   "outputs": [],
   "source": [
    "# Number data in 2016\n",
    "\n",
    "len_data = len(food_data['Y2016'])\n",
    "len_data"
   ]
  },
  {
   "cell_type": "code",
   "execution_count": null,
   "id": "1a3f142a",
   "metadata": {},
   "outputs": [],
   "source": [
    "# Percentage of missing data in 2016\n",
    "\n",
    "percentage = (missing_data/len_data)*100\n",
    "percentage"
   ]
  },
  {
   "cell_type": "markdown",
   "id": "d8c6c371",
   "metadata": {},
   "source": [
    "        total number of missing data = 1535\n",
    "        \n",
    "        percentage of missing data = 2.52"
   ]
  },
  {
   "cell_type": "markdown",
   "id": "19fed584",
   "metadata": {},
   "source": [
    "# Question 14"
   ]
  },
  {
   "cell_type": "markdown",
   "id": "dcc3a2d4",
   "metadata": {},
   "source": [
    "        Which year had the highest correlation with ‘Element Code’?"
   ]
  },
  {
   "cell_type": "code",
   "execution_count": null,
   "id": "a1c8bab0",
   "metadata": {},
   "outputs": [],
   "source": [
    "elementcode_year = food_data[['Element Code', 'Y2014',\n",
    "           'Y2015', 'Y2016', 'Y2017', 'Y2018']]\n",
    "elementcode_year"
   ]
  },
  {
   "cell_type": "code",
   "execution_count": null,
   "id": "2917dab3",
   "metadata": {},
   "outputs": [],
   "source": [
    "corr = elementcode_year.groupby('Element Code').corr(method='pearson')\n",
    "\n",
    "corr"
   ]
  },
  {
   "cell_type": "code",
   "execution_count": null,
   "id": "579e4667",
   "metadata": {},
   "outputs": [],
   "source": [
    "corr.max()"
   ]
  },
  {
   "cell_type": "markdown",
   "id": "88108bdd",
   "metadata": {},
   "source": [
    "# Question 15"
   ]
  },
  {
   "cell_type": "markdown",
   "id": "9e86ffd0",
   "metadata": {},
   "source": [
    "    What year has the highest sum of Import Quantity?"
   ]
  },
  {
   "cell_type": "code",
   "execution_count": null,
   "id": "ce0c4f69",
   "metadata": {},
   "outputs": [],
   "source": [
    "# Grouping by Element and sum\n",
    "\n",
    "element_grouping = food_data.groupby('Element').sum()\n",
    "element_grouping"
   ]
  },
  {
   "cell_type": "code",
   "execution_count": null,
   "id": "27d35900",
   "metadata": {},
   "outputs": [],
   "source": [
    "# printing the row with Import Quantity \n",
    "\n",
    "element_grouping.loc['Import Quantity']"
   ]
  },
  {
   "cell_type": "markdown",
   "id": "c3280ed1",
   "metadata": {},
   "source": [
    "     the year with the highest sum of Import Quantity \n",
    "           \n",
    "           = 2017"
   ]
  },
  {
   "cell_type": "markdown",
   "id": "05be2a61",
   "metadata": {},
   "source": [
    "# Question 16"
   ]
  },
  {
   "cell_type": "markdown",
   "id": "d5ac7051",
   "metadata": {},
   "source": [
    "    What is the total number of the sum of Production in 2014?"
   ]
  },
  {
   "cell_type": "code",
   "execution_count": null,
   "id": "57f3ed71",
   "metadata": {},
   "outputs": [],
   "source": [
    "# Grouping by Element and sum\n",
    "\n",
    "element_grouping = food_data.groupby('Element').sum()\n",
    "element_grouping"
   ]
  },
  {
   "cell_type": "code",
   "execution_count": null,
   "id": "35ee829c",
   "metadata": {},
   "outputs": [],
   "source": [
    "# printing the row label with Production\n",
    "\n",
    "element_grouping.loc['Production']"
   ]
  },
  {
   "cell_type": "markdown",
   "id": "b7606382",
   "metadata": {},
   "source": [
    "    total number of production in 2014\n",
    "    \n",
    "            = 1931287.75"
   ]
  },
  {
   "cell_type": "markdown",
   "id": "8fb9b72d",
   "metadata": {},
   "source": [
    "# Question 17"
   ]
  },
  {
   "cell_type": "markdown",
   "id": "d71df2d6",
   "metadata": {},
   "source": [
    "    Which of these elements had the highest sum in 2018?"
   ]
  },
  {
   "cell_type": "code",
   "execution_count": null,
   "id": "f748e0b9",
   "metadata": {},
   "outputs": [],
   "source": [
    "# selecting Year 2018 and Element columns \n",
    "\n",
    "element_year = food_data[['Element', 'Y2018']]\n",
    "element_year"
   ]
  },
  {
   "cell_type": "code",
   "execution_count": null,
   "id": "9d8b99e8",
   "metadata": {},
   "outputs": [],
   "source": [
    "element_groupby = element_year.groupby('Element').sum()\n",
    "\n",
    "element_groupby"
   ]
  },
  {
   "cell_type": "code",
   "execution_count": null,
   "id": "9d9286e2",
   "metadata": {},
   "outputs": [],
   "source": [
    "element_groupby.max()"
   ]
  },
  {
   "cell_type": "markdown",
   "id": "11feee1f",
   "metadata": {},
   "source": [
    "    the highest sum in 2018\n",
    "    \n",
    "            = Domestic supply quantity"
   ]
  },
  {
   "cell_type": "markdown",
   "id": "ac4dd584",
   "metadata": {},
   "source": [
    "# Question 18"
   ]
  },
  {
   "cell_type": "markdown",
   "id": "a9c905fc",
   "metadata": {},
   "source": [
    "    Which of these elements had the 3rd lowest sum in 2018?"
   ]
  },
  {
   "cell_type": "code",
   "execution_count": null,
   "id": "327dfb47",
   "metadata": {},
   "outputs": [],
   "source": [
    "# sorting the Year values \n",
    "\n",
    "element_groupby.sort_values('Y2018')"
   ]
  },
  {
   "cell_type": "markdown",
   "id": "b2220d59",
   "metadata": {},
   "source": [
    "    the 3rd lowest sum in 2018 \n",
    "    \n",
    "            = Protein supply quantity (g/capita/day)"
   ]
  },
  {
   "cell_type": "markdown",
   "id": "d7474d19",
   "metadata": {},
   "source": [
    "# Question 19"
   ]
  },
  {
   "cell_type": "markdown",
   "id": "db4925f5",
   "metadata": {},
   "source": [
    "    What is the total Import Quantity in Algeria in 2018?"
   ]
  },
  {
   "cell_type": "code",
   "execution_count": null,
   "id": "c2314f8d",
   "metadata": {},
   "outputs": [],
   "source": [
    "# sorting Algeria data alone \n",
    "\n",
    "algeria = food_data.head(1313)\n",
    "algeria"
   ]
  },
  {
   "cell_type": "code",
   "execution_count": null,
   "id": "1c321200",
   "metadata": {},
   "outputs": [],
   "source": [
    "algeria.groupby('Element').sum()"
   ]
  },
  {
   "cell_type": "markdown",
   "id": "b0e777dc",
   "metadata": {},
   "source": [
    "    total import Quantity in Algeria in 2018\n",
    "    \n",
    "            = 36238.29"
   ]
  },
  {
   "cell_type": "markdown",
   "id": "080b0174",
   "metadata": {},
   "source": [
    "# Question 20"
   ]
  },
  {
   "cell_type": "markdown",
   "id": "e25bc420",
   "metadata": {},
   "source": [
    "    What is the total number of unique countries in the dataset?"
   ]
  },
  {
   "cell_type": "code",
   "execution_count": null,
   "id": "8a1c75a2",
   "metadata": {},
   "outputs": [],
   "source": [
    "food_data['Area'].describe()"
   ]
  },
  {
   "cell_type": "code",
   "execution_count": null,
   "id": "145fe7e0",
   "metadata": {},
   "outputs": [],
   "source": [
    "food_data['Area'].nunique()"
   ]
  },
  {
   "cell_type": "markdown",
   "id": "ab87a8d2",
   "metadata": {},
   "source": [
    "    total number of unique countries \n",
    "    \n",
    "            = 49"
   ]
  },
  {
   "cell_type": "code",
   "execution_count": null,
   "id": "d3840c40",
   "metadata": {},
   "outputs": [],
   "source": []
  }
 ],
 "metadata": {
  "kernelspec": {
   "display_name": "Python 3",
   "language": "python",
   "name": "python3"
  },
  "language_info": {
   "codemirror_mode": {
    "name": "ipython",
    "version": 3
   },
   "file_extension": ".py",
   "mimetype": "text/x-python",
   "name": "python",
   "nbconvert_exporter": "python",
   "pygments_lexer": "ipython3",
   "version": "3.8.8"
  }
 },
 "nbformat": 4,
 "nbformat_minor": 5
}
