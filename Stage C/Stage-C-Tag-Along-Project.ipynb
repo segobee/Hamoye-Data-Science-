{
 "cells": [
  {
   "cell_type": "markdown",
   "id": "47c25c26",
   "metadata": {},
   "source": [
    "## This Notebook Answers Question 4, 7, 11, 13, 14, and 16 in the Stage C Assessment "
   ]
  },
  {
   "cell_type": "markdown",
   "id": "2426463a",
   "metadata": {},
   "source": [
    "### Problem Statement\n",
    "\n",
    "\n",
    "The aim of this project is to build a binary classification model to predict if a grid is stable or unstable \n",
    "\n",
    "\n",
    "### Dataset \n",
    "\n",
    "UCI Electrical Grid Stability Simulated dataset\n",
    "\n",
    "Provided by:https://archive.ics.uci.edu/ml/datasets/Electrical+Grid+Stability+Simulated+Data+\n",
    "\n",
    "\n",
    "### Dataset Content\n",
    "\n",
    "- 14 features \n",
    "    - 12 primary predictive features \n",
    "    - 2 dependent variable\n",
    "    \n",
    "***Dataset `feature` explanation***\n",
    "\n",
    "***Predictive Feature***\n",
    "\n",
    "- `'tau1' to 'tau4':` the reaction time of each network participant, a real value within the range 0.5 to 10 ('tau1' corresponds to the supplier node, 'tau2' to 'tau4' to the consumer nodes)\n",
    "\n",
    "- `'p1' to 'p4':` nominal power produced (positive) or consumed (negative) by each network participant, a real value within the range -2.0 to -0.5 for consumers ('p2' to 'p4'). As the total power consumed equals the total power generated, p1 (supplier node) = - (p2 + p3 + p4)\n",
    "\n",
    "- `'g1' to 'g4':` price elasticity coefficient for each network participant, a real value within the range 0.05 to 1.00 ('g1' corresponds to the supplier node, 'g2' to 'g4' to the consumer nodes; 'g' stands for 'gamma')\n",
    "\n",
    "\n",
    "***Dependent Variables***\n",
    "\n",
    "- `'stab':` the maximum real part of the characteristic differential equation root (if positive, the system is linearly unstable; if negative, linearly stable)\n",
    "\n",
    "- `'stabf':` a categorical (binary) label ('stable' or 'unstable')\n",
    "\n",
    "\n"
   ]
  },
  {
   "cell_type": "markdown",
   "id": "28e69f68",
   "metadata": {},
   "source": [
    "### First instructions to be followed before work begins "
   ]
  },
  {
   "cell_type": "markdown",
   "id": "b2547d51",
   "metadata": {},
   "source": [
    "1. Splitting the data to:\n",
    "    - 80% training set\n",
    "    - 20% testing set \n",
    "2. Using Random state to be = 1 for all the models\n",
    "3. Using Standard Scaler to transform the training and testing set \n",
    "4. Training the data with Random Forest and extra trees classifier \n",
    "5. Using xgboost to train an extreme boosting model\n",
    "6. Using lightgbm to train a light gradient boosting model\n",
    "7. Evaluate on the test set "
   ]
  },
  {
   "cell_type": "markdown",
   "id": "a4c38f47",
   "metadata": {},
   "source": [
    "## PROJECT WOKRFLOW "
   ]
  },
  {
   "cell_type": "markdown",
   "id": "07238885",
   "metadata": {},
   "source": [
    "# Step 1: Importing the Libraries"
   ]
  },
  {
   "cell_type": "code",
   "execution_count": 1,
   "id": "c802f578",
   "metadata": {},
   "outputs": [],
   "source": [
    "import pandas as pd\n",
    "import numpy as np\n",
    "import matplotlib.pyplot as plt \n",
    "import seaborn as sns"
   ]
  },
  {
   "cell_type": "markdown",
   "id": "7b72ae08",
   "metadata": {},
   "source": [
    "# Step 2: Importing the dataset "
   ]
  },
  {
   "cell_type": "code",
   "execution_count": 2,
   "id": "7d232d03",
   "metadata": {},
   "outputs": [],
   "source": [
    "# Import the data\n",
    "\n",
    "uci_data = pd.read_csv(\"Data_for_UCI_named.csv\")"
   ]
  },
  {
   "cell_type": "code",
   "execution_count": 3,
   "id": "33ccb61f",
   "metadata": {},
   "outputs": [
    {
     "data": {
      "text/html": [
       "<div>\n",
       "<style scoped>\n",
       "    .dataframe tbody tr th:only-of-type {\n",
       "        vertical-align: middle;\n",
       "    }\n",
       "\n",
       "    .dataframe tbody tr th {\n",
       "        vertical-align: top;\n",
       "    }\n",
       "\n",
       "    .dataframe thead th {\n",
       "        text-align: right;\n",
       "    }\n",
       "</style>\n",
       "<table border=\"1\" class=\"dataframe\">\n",
       "  <thead>\n",
       "    <tr style=\"text-align: right;\">\n",
       "      <th></th>\n",
       "      <th>tau1</th>\n",
       "      <th>tau2</th>\n",
       "      <th>tau3</th>\n",
       "      <th>tau4</th>\n",
       "      <th>p1</th>\n",
       "      <th>p2</th>\n",
       "      <th>p3</th>\n",
       "      <th>p4</th>\n",
       "      <th>g1</th>\n",
       "      <th>g2</th>\n",
       "      <th>g3</th>\n",
       "      <th>g4</th>\n",
       "      <th>stab</th>\n",
       "      <th>stabf</th>\n",
       "    </tr>\n",
       "  </thead>\n",
       "  <tbody>\n",
       "    <tr>\n",
       "      <th>0</th>\n",
       "      <td>2.959060</td>\n",
       "      <td>3.079885</td>\n",
       "      <td>8.381025</td>\n",
       "      <td>9.780754</td>\n",
       "      <td>3.763085</td>\n",
       "      <td>-0.782604</td>\n",
       "      <td>-1.257395</td>\n",
       "      <td>-1.723086</td>\n",
       "      <td>0.650456</td>\n",
       "      <td>0.859578</td>\n",
       "      <td>0.887445</td>\n",
       "      <td>0.958034</td>\n",
       "      <td>0.055347</td>\n",
       "      <td>unstable</td>\n",
       "    </tr>\n",
       "    <tr>\n",
       "      <th>1</th>\n",
       "      <td>9.304097</td>\n",
       "      <td>4.902524</td>\n",
       "      <td>3.047541</td>\n",
       "      <td>1.369357</td>\n",
       "      <td>5.067812</td>\n",
       "      <td>-1.940058</td>\n",
       "      <td>-1.872742</td>\n",
       "      <td>-1.255012</td>\n",
       "      <td>0.413441</td>\n",
       "      <td>0.862414</td>\n",
       "      <td>0.562139</td>\n",
       "      <td>0.781760</td>\n",
       "      <td>-0.005957</td>\n",
       "      <td>stable</td>\n",
       "    </tr>\n",
       "    <tr>\n",
       "      <th>2</th>\n",
       "      <td>8.971707</td>\n",
       "      <td>8.848428</td>\n",
       "      <td>3.046479</td>\n",
       "      <td>1.214518</td>\n",
       "      <td>3.405158</td>\n",
       "      <td>-1.207456</td>\n",
       "      <td>-1.277210</td>\n",
       "      <td>-0.920492</td>\n",
       "      <td>0.163041</td>\n",
       "      <td>0.766689</td>\n",
       "      <td>0.839444</td>\n",
       "      <td>0.109853</td>\n",
       "      <td>0.003471</td>\n",
       "      <td>unstable</td>\n",
       "    </tr>\n",
       "    <tr>\n",
       "      <th>3</th>\n",
       "      <td>0.716415</td>\n",
       "      <td>7.669600</td>\n",
       "      <td>4.486641</td>\n",
       "      <td>2.340563</td>\n",
       "      <td>3.963791</td>\n",
       "      <td>-1.027473</td>\n",
       "      <td>-1.938944</td>\n",
       "      <td>-0.997374</td>\n",
       "      <td>0.446209</td>\n",
       "      <td>0.976744</td>\n",
       "      <td>0.929381</td>\n",
       "      <td>0.362718</td>\n",
       "      <td>0.028871</td>\n",
       "      <td>unstable</td>\n",
       "    </tr>\n",
       "    <tr>\n",
       "      <th>4</th>\n",
       "      <td>3.134112</td>\n",
       "      <td>7.608772</td>\n",
       "      <td>4.943759</td>\n",
       "      <td>9.857573</td>\n",
       "      <td>3.525811</td>\n",
       "      <td>-1.125531</td>\n",
       "      <td>-1.845975</td>\n",
       "      <td>-0.554305</td>\n",
       "      <td>0.797110</td>\n",
       "      <td>0.455450</td>\n",
       "      <td>0.656947</td>\n",
       "      <td>0.820923</td>\n",
       "      <td>0.049860</td>\n",
       "      <td>unstable</td>\n",
       "    </tr>\n",
       "    <tr>\n",
       "      <th>...</th>\n",
       "      <td>...</td>\n",
       "      <td>...</td>\n",
       "      <td>...</td>\n",
       "      <td>...</td>\n",
       "      <td>...</td>\n",
       "      <td>...</td>\n",
       "      <td>...</td>\n",
       "      <td>...</td>\n",
       "      <td>...</td>\n",
       "      <td>...</td>\n",
       "      <td>...</td>\n",
       "      <td>...</td>\n",
       "      <td>...</td>\n",
       "      <td>...</td>\n",
       "    </tr>\n",
       "    <tr>\n",
       "      <th>9995</th>\n",
       "      <td>2.930406</td>\n",
       "      <td>9.487627</td>\n",
       "      <td>2.376523</td>\n",
       "      <td>6.187797</td>\n",
       "      <td>3.343416</td>\n",
       "      <td>-0.658054</td>\n",
       "      <td>-1.449106</td>\n",
       "      <td>-1.236256</td>\n",
       "      <td>0.601709</td>\n",
       "      <td>0.779642</td>\n",
       "      <td>0.813512</td>\n",
       "      <td>0.608385</td>\n",
       "      <td>0.023892</td>\n",
       "      <td>unstable</td>\n",
       "    </tr>\n",
       "    <tr>\n",
       "      <th>9996</th>\n",
       "      <td>3.392299</td>\n",
       "      <td>1.274827</td>\n",
       "      <td>2.954947</td>\n",
       "      <td>6.894759</td>\n",
       "      <td>4.349512</td>\n",
       "      <td>-1.663661</td>\n",
       "      <td>-0.952437</td>\n",
       "      <td>-1.733414</td>\n",
       "      <td>0.502079</td>\n",
       "      <td>0.567242</td>\n",
       "      <td>0.285880</td>\n",
       "      <td>0.366120</td>\n",
       "      <td>-0.025803</td>\n",
       "      <td>stable</td>\n",
       "    </tr>\n",
       "    <tr>\n",
       "      <th>9997</th>\n",
       "      <td>2.364034</td>\n",
       "      <td>2.842030</td>\n",
       "      <td>8.776391</td>\n",
       "      <td>1.008906</td>\n",
       "      <td>4.299976</td>\n",
       "      <td>-1.380719</td>\n",
       "      <td>-0.943884</td>\n",
       "      <td>-1.975373</td>\n",
       "      <td>0.487838</td>\n",
       "      <td>0.986505</td>\n",
       "      <td>0.149286</td>\n",
       "      <td>0.145984</td>\n",
       "      <td>-0.031810</td>\n",
       "      <td>stable</td>\n",
       "    </tr>\n",
       "    <tr>\n",
       "      <th>9998</th>\n",
       "      <td>9.631511</td>\n",
       "      <td>3.994398</td>\n",
       "      <td>2.757071</td>\n",
       "      <td>7.821347</td>\n",
       "      <td>2.514755</td>\n",
       "      <td>-0.966330</td>\n",
       "      <td>-0.649915</td>\n",
       "      <td>-0.898510</td>\n",
       "      <td>0.365246</td>\n",
       "      <td>0.587558</td>\n",
       "      <td>0.889118</td>\n",
       "      <td>0.818391</td>\n",
       "      <td>0.037789</td>\n",
       "      <td>unstable</td>\n",
       "    </tr>\n",
       "    <tr>\n",
       "      <th>9999</th>\n",
       "      <td>6.530527</td>\n",
       "      <td>6.781790</td>\n",
       "      <td>4.349695</td>\n",
       "      <td>8.673138</td>\n",
       "      <td>3.492807</td>\n",
       "      <td>-1.390285</td>\n",
       "      <td>-1.532193</td>\n",
       "      <td>-0.570329</td>\n",
       "      <td>0.073056</td>\n",
       "      <td>0.505441</td>\n",
       "      <td>0.378761</td>\n",
       "      <td>0.942631</td>\n",
       "      <td>0.045263</td>\n",
       "      <td>unstable</td>\n",
       "    </tr>\n",
       "  </tbody>\n",
       "</table>\n",
       "<p>10000 rows × 14 columns</p>\n",
       "</div>"
      ],
      "text/plain": [
       "          tau1      tau2      tau3      tau4        p1        p2        p3  \\\n",
       "0     2.959060  3.079885  8.381025  9.780754  3.763085 -0.782604 -1.257395   \n",
       "1     9.304097  4.902524  3.047541  1.369357  5.067812 -1.940058 -1.872742   \n",
       "2     8.971707  8.848428  3.046479  1.214518  3.405158 -1.207456 -1.277210   \n",
       "3     0.716415  7.669600  4.486641  2.340563  3.963791 -1.027473 -1.938944   \n",
       "4     3.134112  7.608772  4.943759  9.857573  3.525811 -1.125531 -1.845975   \n",
       "...        ...       ...       ...       ...       ...       ...       ...   \n",
       "9995  2.930406  9.487627  2.376523  6.187797  3.343416 -0.658054 -1.449106   \n",
       "9996  3.392299  1.274827  2.954947  6.894759  4.349512 -1.663661 -0.952437   \n",
       "9997  2.364034  2.842030  8.776391  1.008906  4.299976 -1.380719 -0.943884   \n",
       "9998  9.631511  3.994398  2.757071  7.821347  2.514755 -0.966330 -0.649915   \n",
       "9999  6.530527  6.781790  4.349695  8.673138  3.492807 -1.390285 -1.532193   \n",
       "\n",
       "            p4        g1        g2        g3        g4      stab     stabf  \n",
       "0    -1.723086  0.650456  0.859578  0.887445  0.958034  0.055347  unstable  \n",
       "1    -1.255012  0.413441  0.862414  0.562139  0.781760 -0.005957    stable  \n",
       "2    -0.920492  0.163041  0.766689  0.839444  0.109853  0.003471  unstable  \n",
       "3    -0.997374  0.446209  0.976744  0.929381  0.362718  0.028871  unstable  \n",
       "4    -0.554305  0.797110  0.455450  0.656947  0.820923  0.049860  unstable  \n",
       "...        ...       ...       ...       ...       ...       ...       ...  \n",
       "9995 -1.236256  0.601709  0.779642  0.813512  0.608385  0.023892  unstable  \n",
       "9996 -1.733414  0.502079  0.567242  0.285880  0.366120 -0.025803    stable  \n",
       "9997 -1.975373  0.487838  0.986505  0.149286  0.145984 -0.031810    stable  \n",
       "9998 -0.898510  0.365246  0.587558  0.889118  0.818391  0.037789  unstable  \n",
       "9999 -0.570329  0.073056  0.505441  0.378761  0.942631  0.045263  unstable  \n",
       "\n",
       "[10000 rows x 14 columns]"
      ]
     },
     "execution_count": 3,
     "metadata": {},
     "output_type": "execute_result"
    }
   ],
   "source": [
    "uci_data"
   ]
  },
  {
   "cell_type": "markdown",
   "id": "d9a9bee9",
   "metadata": {},
   "source": [
    "# Step 3: Exploring  and Visualize the Dataset"
   ]
  },
  {
   "cell_type": "code",
   "execution_count": 4,
   "id": "babaf090",
   "metadata": {},
   "outputs": [
    {
     "data": {
      "text/plain": [
       "tau1     0\n",
       "tau2     0\n",
       "tau3     0\n",
       "tau4     0\n",
       "p1       0\n",
       "p2       0\n",
       "p3       0\n",
       "p4       0\n",
       "g1       0\n",
       "g2       0\n",
       "g3       0\n",
       "g4       0\n",
       "stab     0\n",
       "stabf    0\n",
       "dtype: int64"
      ]
     },
     "execution_count": 4,
     "metadata": {},
     "output_type": "execute_result"
    }
   ],
   "source": [
    "# checking for missing data\n",
    "\n",
    "uci_data.isna().sum()"
   ]
  },
  {
   "cell_type": "markdown",
   "id": "fc091e55",
   "metadata": {},
   "source": [
    "    NO MISSING VALUES"
   ]
  },
  {
   "cell_type": "code",
   "execution_count": 5,
   "id": "66e068f6",
   "metadata": {},
   "outputs": [
    {
     "data": {
      "text/html": [
       "<div>\n",
       "<style scoped>\n",
       "    .dataframe tbody tr th:only-of-type {\n",
       "        vertical-align: middle;\n",
       "    }\n",
       "\n",
       "    .dataframe tbody tr th {\n",
       "        vertical-align: top;\n",
       "    }\n",
       "\n",
       "    .dataframe thead th {\n",
       "        text-align: right;\n",
       "    }\n",
       "</style>\n",
       "<table border=\"1\" class=\"dataframe\">\n",
       "  <thead>\n",
       "    <tr style=\"text-align: right;\">\n",
       "      <th></th>\n",
       "      <th>tau1</th>\n",
       "      <th>tau2</th>\n",
       "      <th>tau3</th>\n",
       "      <th>tau4</th>\n",
       "      <th>p1</th>\n",
       "      <th>p2</th>\n",
       "      <th>p3</th>\n",
       "      <th>p4</th>\n",
       "      <th>g1</th>\n",
       "      <th>g2</th>\n",
       "      <th>g3</th>\n",
       "      <th>g4</th>\n",
       "      <th>stab</th>\n",
       "    </tr>\n",
       "  </thead>\n",
       "  <tbody>\n",
       "    <tr>\n",
       "      <th>count</th>\n",
       "      <td>10000.000000</td>\n",
       "      <td>10000.000000</td>\n",
       "      <td>10000.000000</td>\n",
       "      <td>10000.000000</td>\n",
       "      <td>10000.000000</td>\n",
       "      <td>10000.000000</td>\n",
       "      <td>10000.000000</td>\n",
       "      <td>10000.000000</td>\n",
       "      <td>10000.000000</td>\n",
       "      <td>10000.000000</td>\n",
       "      <td>10000.000000</td>\n",
       "      <td>10000.000000</td>\n",
       "      <td>10000.000000</td>\n",
       "    </tr>\n",
       "    <tr>\n",
       "      <th>mean</th>\n",
       "      <td>5.250000</td>\n",
       "      <td>5.250001</td>\n",
       "      <td>5.250004</td>\n",
       "      <td>5.249997</td>\n",
       "      <td>3.750000</td>\n",
       "      <td>-1.250000</td>\n",
       "      <td>-1.250000</td>\n",
       "      <td>-1.250000</td>\n",
       "      <td>0.525000</td>\n",
       "      <td>0.525000</td>\n",
       "      <td>0.525000</td>\n",
       "      <td>0.525000</td>\n",
       "      <td>0.015731</td>\n",
       "    </tr>\n",
       "    <tr>\n",
       "      <th>std</th>\n",
       "      <td>2.742548</td>\n",
       "      <td>2.742549</td>\n",
       "      <td>2.742549</td>\n",
       "      <td>2.742556</td>\n",
       "      <td>0.752160</td>\n",
       "      <td>0.433035</td>\n",
       "      <td>0.433035</td>\n",
       "      <td>0.433035</td>\n",
       "      <td>0.274256</td>\n",
       "      <td>0.274255</td>\n",
       "      <td>0.274255</td>\n",
       "      <td>0.274255</td>\n",
       "      <td>0.036919</td>\n",
       "    </tr>\n",
       "    <tr>\n",
       "      <th>min</th>\n",
       "      <td>0.500793</td>\n",
       "      <td>0.500141</td>\n",
       "      <td>0.500788</td>\n",
       "      <td>0.500473</td>\n",
       "      <td>1.582590</td>\n",
       "      <td>-1.999891</td>\n",
       "      <td>-1.999945</td>\n",
       "      <td>-1.999926</td>\n",
       "      <td>0.050009</td>\n",
       "      <td>0.050053</td>\n",
       "      <td>0.050054</td>\n",
       "      <td>0.050028</td>\n",
       "      <td>-0.080760</td>\n",
       "    </tr>\n",
       "    <tr>\n",
       "      <th>25%</th>\n",
       "      <td>2.874892</td>\n",
       "      <td>2.875140</td>\n",
       "      <td>2.875522</td>\n",
       "      <td>2.874950</td>\n",
       "      <td>3.218300</td>\n",
       "      <td>-1.624901</td>\n",
       "      <td>-1.625025</td>\n",
       "      <td>-1.624960</td>\n",
       "      <td>0.287521</td>\n",
       "      <td>0.287552</td>\n",
       "      <td>0.287514</td>\n",
       "      <td>0.287494</td>\n",
       "      <td>-0.015557</td>\n",
       "    </tr>\n",
       "    <tr>\n",
       "      <th>50%</th>\n",
       "      <td>5.250004</td>\n",
       "      <td>5.249981</td>\n",
       "      <td>5.249979</td>\n",
       "      <td>5.249734</td>\n",
       "      <td>3.751025</td>\n",
       "      <td>-1.249966</td>\n",
       "      <td>-1.249974</td>\n",
       "      <td>-1.250007</td>\n",
       "      <td>0.525009</td>\n",
       "      <td>0.525003</td>\n",
       "      <td>0.525015</td>\n",
       "      <td>0.525002</td>\n",
       "      <td>0.017142</td>\n",
       "    </tr>\n",
       "    <tr>\n",
       "      <th>75%</th>\n",
       "      <td>7.624690</td>\n",
       "      <td>7.624893</td>\n",
       "      <td>7.624948</td>\n",
       "      <td>7.624838</td>\n",
       "      <td>4.282420</td>\n",
       "      <td>-0.874977</td>\n",
       "      <td>-0.875043</td>\n",
       "      <td>-0.875065</td>\n",
       "      <td>0.762435</td>\n",
       "      <td>0.762490</td>\n",
       "      <td>0.762440</td>\n",
       "      <td>0.762433</td>\n",
       "      <td>0.044878</td>\n",
       "    </tr>\n",
       "    <tr>\n",
       "      <th>max</th>\n",
       "      <td>9.999469</td>\n",
       "      <td>9.999837</td>\n",
       "      <td>9.999450</td>\n",
       "      <td>9.999443</td>\n",
       "      <td>5.864418</td>\n",
       "      <td>-0.500108</td>\n",
       "      <td>-0.500072</td>\n",
       "      <td>-0.500025</td>\n",
       "      <td>0.999937</td>\n",
       "      <td>0.999944</td>\n",
       "      <td>0.999982</td>\n",
       "      <td>0.999930</td>\n",
       "      <td>0.109403</td>\n",
       "    </tr>\n",
       "  </tbody>\n",
       "</table>\n",
       "</div>"
      ],
      "text/plain": [
       "               tau1          tau2          tau3          tau4            p1  \\\n",
       "count  10000.000000  10000.000000  10000.000000  10000.000000  10000.000000   \n",
       "mean       5.250000      5.250001      5.250004      5.249997      3.750000   \n",
       "std        2.742548      2.742549      2.742549      2.742556      0.752160   \n",
       "min        0.500793      0.500141      0.500788      0.500473      1.582590   \n",
       "25%        2.874892      2.875140      2.875522      2.874950      3.218300   \n",
       "50%        5.250004      5.249981      5.249979      5.249734      3.751025   \n",
       "75%        7.624690      7.624893      7.624948      7.624838      4.282420   \n",
       "max        9.999469      9.999837      9.999450      9.999443      5.864418   \n",
       "\n",
       "                 p2            p3            p4            g1            g2  \\\n",
       "count  10000.000000  10000.000000  10000.000000  10000.000000  10000.000000   \n",
       "mean      -1.250000     -1.250000     -1.250000      0.525000      0.525000   \n",
       "std        0.433035      0.433035      0.433035      0.274256      0.274255   \n",
       "min       -1.999891     -1.999945     -1.999926      0.050009      0.050053   \n",
       "25%       -1.624901     -1.625025     -1.624960      0.287521      0.287552   \n",
       "50%       -1.249966     -1.249974     -1.250007      0.525009      0.525003   \n",
       "75%       -0.874977     -0.875043     -0.875065      0.762435      0.762490   \n",
       "max       -0.500108     -0.500072     -0.500025      0.999937      0.999944   \n",
       "\n",
       "                 g3            g4          stab  \n",
       "count  10000.000000  10000.000000  10000.000000  \n",
       "mean       0.525000      0.525000      0.015731  \n",
       "std        0.274255      0.274255      0.036919  \n",
       "min        0.050054      0.050028     -0.080760  \n",
       "25%        0.287514      0.287494     -0.015557  \n",
       "50%        0.525015      0.525002      0.017142  \n",
       "75%        0.762440      0.762433      0.044878  \n",
       "max        0.999982      0.999930      0.109403  "
      ]
     },
     "execution_count": 5,
     "metadata": {},
     "output_type": "execute_result"
    }
   ],
   "source": [
    "# checking the descriptive statistics of the dataset \n",
    "\n",
    "uci_data.describe()"
   ]
  },
  {
   "cell_type": "code",
   "execution_count": 6,
   "id": "ee7b671f",
   "metadata": {},
   "outputs": [
    {
     "name": "stdout",
     "output_type": "stream",
     "text": [
      "<class 'pandas.core.frame.DataFrame'>\n",
      "RangeIndex: 10000 entries, 0 to 9999\n",
      "Data columns (total 14 columns):\n",
      " #   Column  Non-Null Count  Dtype  \n",
      "---  ------  --------------  -----  \n",
      " 0   tau1    10000 non-null  float64\n",
      " 1   tau2    10000 non-null  float64\n",
      " 2   tau3    10000 non-null  float64\n",
      " 3   tau4    10000 non-null  float64\n",
      " 4   p1      10000 non-null  float64\n",
      " 5   p2      10000 non-null  float64\n",
      " 6   p3      10000 non-null  float64\n",
      " 7   p4      10000 non-null  float64\n",
      " 8   g1      10000 non-null  float64\n",
      " 9   g2      10000 non-null  float64\n",
      " 10  g3      10000 non-null  float64\n",
      " 11  g4      10000 non-null  float64\n",
      " 12  stab    10000 non-null  float64\n",
      " 13  stabf   10000 non-null  object \n",
      "dtypes: float64(13), object(1)\n",
      "memory usage: 1.1+ MB\n"
     ]
    }
   ],
   "source": [
    "# checking the info of the data \n",
    "\n",
    "uci_data.info()"
   ]
  },
  {
   "cell_type": "markdown",
   "id": "95fa10f0",
   "metadata": {},
   "source": [
    "`From the dataset, we have two target variables. Since the two target variables have the same attributes, we can as well drop one and place our focus the other.`\n",
    "\n",
    "In this case, **stab as target variable** will be dropped for **stabf as the main target varible**.\n",
    "\n"
   ]
  },
  {
   "cell_type": "code",
   "execution_count": 7,
   "id": "b575ba29",
   "metadata": {},
   "outputs": [],
   "source": [
    "# Dropping the stab \n",
    "\n",
    "new_uci_data = uci_data.drop('stab', axis=1)"
   ]
  },
  {
   "cell_type": "code",
   "execution_count": 8,
   "id": "c14789c4",
   "metadata": {},
   "outputs": [
    {
     "data": {
      "text/html": [
       "<div>\n",
       "<style scoped>\n",
       "    .dataframe tbody tr th:only-of-type {\n",
       "        vertical-align: middle;\n",
       "    }\n",
       "\n",
       "    .dataframe tbody tr th {\n",
       "        vertical-align: top;\n",
       "    }\n",
       "\n",
       "    .dataframe thead th {\n",
       "        text-align: right;\n",
       "    }\n",
       "</style>\n",
       "<table border=\"1\" class=\"dataframe\">\n",
       "  <thead>\n",
       "    <tr style=\"text-align: right;\">\n",
       "      <th></th>\n",
       "      <th>tau1</th>\n",
       "      <th>tau2</th>\n",
       "      <th>tau3</th>\n",
       "      <th>tau4</th>\n",
       "      <th>p1</th>\n",
       "      <th>p2</th>\n",
       "      <th>p3</th>\n",
       "      <th>p4</th>\n",
       "      <th>g1</th>\n",
       "      <th>g2</th>\n",
       "      <th>g3</th>\n",
       "      <th>g4</th>\n",
       "      <th>stabf</th>\n",
       "    </tr>\n",
       "  </thead>\n",
       "  <tbody>\n",
       "    <tr>\n",
       "      <th>0</th>\n",
       "      <td>2.959060</td>\n",
       "      <td>3.079885</td>\n",
       "      <td>8.381025</td>\n",
       "      <td>9.780754</td>\n",
       "      <td>3.763085</td>\n",
       "      <td>-0.782604</td>\n",
       "      <td>-1.257395</td>\n",
       "      <td>-1.723086</td>\n",
       "      <td>0.650456</td>\n",
       "      <td>0.859578</td>\n",
       "      <td>0.887445</td>\n",
       "      <td>0.958034</td>\n",
       "      <td>unstable</td>\n",
       "    </tr>\n",
       "    <tr>\n",
       "      <th>1</th>\n",
       "      <td>9.304097</td>\n",
       "      <td>4.902524</td>\n",
       "      <td>3.047541</td>\n",
       "      <td>1.369357</td>\n",
       "      <td>5.067812</td>\n",
       "      <td>-1.940058</td>\n",
       "      <td>-1.872742</td>\n",
       "      <td>-1.255012</td>\n",
       "      <td>0.413441</td>\n",
       "      <td>0.862414</td>\n",
       "      <td>0.562139</td>\n",
       "      <td>0.781760</td>\n",
       "      <td>stable</td>\n",
       "    </tr>\n",
       "    <tr>\n",
       "      <th>2</th>\n",
       "      <td>8.971707</td>\n",
       "      <td>8.848428</td>\n",
       "      <td>3.046479</td>\n",
       "      <td>1.214518</td>\n",
       "      <td>3.405158</td>\n",
       "      <td>-1.207456</td>\n",
       "      <td>-1.277210</td>\n",
       "      <td>-0.920492</td>\n",
       "      <td>0.163041</td>\n",
       "      <td>0.766689</td>\n",
       "      <td>0.839444</td>\n",
       "      <td>0.109853</td>\n",
       "      <td>unstable</td>\n",
       "    </tr>\n",
       "    <tr>\n",
       "      <th>3</th>\n",
       "      <td>0.716415</td>\n",
       "      <td>7.669600</td>\n",
       "      <td>4.486641</td>\n",
       "      <td>2.340563</td>\n",
       "      <td>3.963791</td>\n",
       "      <td>-1.027473</td>\n",
       "      <td>-1.938944</td>\n",
       "      <td>-0.997374</td>\n",
       "      <td>0.446209</td>\n",
       "      <td>0.976744</td>\n",
       "      <td>0.929381</td>\n",
       "      <td>0.362718</td>\n",
       "      <td>unstable</td>\n",
       "    </tr>\n",
       "    <tr>\n",
       "      <th>4</th>\n",
       "      <td>3.134112</td>\n",
       "      <td>7.608772</td>\n",
       "      <td>4.943759</td>\n",
       "      <td>9.857573</td>\n",
       "      <td>3.525811</td>\n",
       "      <td>-1.125531</td>\n",
       "      <td>-1.845975</td>\n",
       "      <td>-0.554305</td>\n",
       "      <td>0.797110</td>\n",
       "      <td>0.455450</td>\n",
       "      <td>0.656947</td>\n",
       "      <td>0.820923</td>\n",
       "      <td>unstable</td>\n",
       "    </tr>\n",
       "  </tbody>\n",
       "</table>\n",
       "</div>"
      ],
      "text/plain": [
       "       tau1      tau2      tau3      tau4        p1        p2        p3  \\\n",
       "0  2.959060  3.079885  8.381025  9.780754  3.763085 -0.782604 -1.257395   \n",
       "1  9.304097  4.902524  3.047541  1.369357  5.067812 -1.940058 -1.872742   \n",
       "2  8.971707  8.848428  3.046479  1.214518  3.405158 -1.207456 -1.277210   \n",
       "3  0.716415  7.669600  4.486641  2.340563  3.963791 -1.027473 -1.938944   \n",
       "4  3.134112  7.608772  4.943759  9.857573  3.525811 -1.125531 -1.845975   \n",
       "\n",
       "         p4        g1        g2        g3        g4     stabf  \n",
       "0 -1.723086  0.650456  0.859578  0.887445  0.958034  unstable  \n",
       "1 -1.255012  0.413441  0.862414  0.562139  0.781760    stable  \n",
       "2 -0.920492  0.163041  0.766689  0.839444  0.109853  unstable  \n",
       "3 -0.997374  0.446209  0.976744  0.929381  0.362718  unstable  \n",
       "4 -0.554305  0.797110  0.455450  0.656947  0.820923  unstable  "
      ]
     },
     "execution_count": 8,
     "metadata": {},
     "output_type": "execute_result"
    }
   ],
   "source": [
    "new_uci_data.head()"
   ]
  },
  {
   "cell_type": "code",
   "execution_count": 9,
   "id": "64474fc7",
   "metadata": {},
   "outputs": [
    {
     "data": {
      "text/plain": [
       "unstable    6380\n",
       "stable      3620\n",
       "Name: stabf, dtype: int64"
      ]
     },
     "execution_count": 9,
     "metadata": {},
     "output_type": "execute_result"
    }
   ],
   "source": [
    "# checking the label distribution of the target varible\n",
    "\n",
    "new_uci_data.stabf.value_counts()"
   ]
  },
  {
   "cell_type": "code",
   "execution_count": 10,
   "id": "5dc9aba2",
   "metadata": {},
   "outputs": [
    {
     "data": {
      "text/plain": [
       "Text(0.5, 0, 'Number of Occurence')"
      ]
     },
     "execution_count": 10,
     "metadata": {},
     "output_type": "execute_result"
    },
    {
     "data": {
      "image/png": "[encoded data removed]",
      "text/plain": [
       "<Figure size 432x288 with 1 Axes>"
      ]
     },
     "metadata": {
      "needs_background": "light"
     },
     "output_type": "display_data"
    }
   ],
   "source": [
    "# Plotting the bar chart for each category distribution\n",
    "\n",
    "fig = new_uci_data.stabf.value_counts().plot.barh()\n",
    "fig.set_title('Stable Vs Unstable')\n",
    "fig.set_xlabel('Number of Occurence')"
   ]
  },
  {
   "cell_type": "markdown",
   "id": "e96cfc1c",
   "metadata": {},
   "source": [
    "`This is imbalance in the label distribution. Which of course will be handled later as we progress in building the model`"
   ]
  },
  {
   "cell_type": "markdown",
   "id": "630fe4e7",
   "metadata": {},
   "source": [
    "# Step 4: Preparing the data for training/Data cleaning "
   ]
  },
  {
   "cell_type": "markdown",
   "id": "225128f0",
   "metadata": {},
   "source": [
    "**Exploring the target variable**\n",
    "\n",
    "Getting more insights on the target varible (stabf)\n",
    "\n",
    "We have two labels:\n",
    "   - stable\n",
    "   - unstable \n",
    "   \n",
    "We would be exploring the labels"
   ]
  },
  {
   "cell_type": "code",
   "execution_count": 11,
   "id": "8030fdc6",
   "metadata": {},
   "outputs": [],
   "source": [
    "# encoding the target varible\n",
    "# using onehotencoder \n",
    "# from sklearn \n",
    "\n",
    "from sklearn.preprocessing import LabelEncoder"
   ]
  },
  {
   "cell_type": "code",
   "execution_count": 12,
   "id": "47666874",
   "metadata": {},
   "outputs": [],
   "source": [
    "# instanting the encoder \n",
    "\n",
    "encoder = LabelEncoder()"
   ]
  },
  {
   "cell_type": "code",
   "execution_count": 13,
   "id": "3e87c9d6",
   "metadata": {
    "scrolled": true
   },
   "outputs": [],
   "source": [
    "\n",
    "new_uci_data.stabf = encoder.fit_transform(new_uci_data.stabf)"
   ]
  },
  {
   "cell_type": "code",
   "execution_count": 14,
   "id": "7671d4b9",
   "metadata": {},
   "outputs": [
    {
     "data": {
      "text/html": [
       "<div>\n",
       "<style scoped>\n",
       "    .dataframe tbody tr th:only-of-type {\n",
       "        vertical-align: middle;\n",
       "    }\n",
       "\n",
       "    .dataframe tbody tr th {\n",
       "        vertical-align: top;\n",
       "    }\n",
       "\n",
       "    .dataframe thead th {\n",
       "        text-align: right;\n",
       "    }\n",
       "</style>\n",
       "<table border=\"1\" class=\"dataframe\">\n",
       "  <thead>\n",
       "    <tr style=\"text-align: right;\">\n",
       "      <th></th>\n",
       "      <th>tau1</th>\n",
       "      <th>tau2</th>\n",
       "      <th>tau3</th>\n",
       "      <th>tau4</th>\n",
       "      <th>p1</th>\n",
       "      <th>p2</th>\n",
       "      <th>p3</th>\n",
       "      <th>p4</th>\n",
       "      <th>g1</th>\n",
       "      <th>g2</th>\n",
       "      <th>g3</th>\n",
       "      <th>g4</th>\n",
       "      <th>stabf</th>\n",
       "    </tr>\n",
       "  </thead>\n",
       "  <tbody>\n",
       "    <tr>\n",
       "      <th>0</th>\n",
       "      <td>2.959060</td>\n",
       "      <td>3.079885</td>\n",
       "      <td>8.381025</td>\n",
       "      <td>9.780754</td>\n",
       "      <td>3.763085</td>\n",
       "      <td>-0.782604</td>\n",
       "      <td>-1.257395</td>\n",
       "      <td>-1.723086</td>\n",
       "      <td>0.650456</td>\n",
       "      <td>0.859578</td>\n",
       "      <td>0.887445</td>\n",
       "      <td>0.958034</td>\n",
       "      <td>1</td>\n",
       "    </tr>\n",
       "    <tr>\n",
       "      <th>1</th>\n",
       "      <td>9.304097</td>\n",
       "      <td>4.902524</td>\n",
       "      <td>3.047541</td>\n",
       "      <td>1.369357</td>\n",
       "      <td>5.067812</td>\n",
       "      <td>-1.940058</td>\n",
       "      <td>-1.872742</td>\n",
       "      <td>-1.255012</td>\n",
       "      <td>0.413441</td>\n",
       "      <td>0.862414</td>\n",
       "      <td>0.562139</td>\n",
       "      <td>0.781760</td>\n",
       "      <td>0</td>\n",
       "    </tr>\n",
       "    <tr>\n",
       "      <th>2</th>\n",
       "      <td>8.971707</td>\n",
       "      <td>8.848428</td>\n",
       "      <td>3.046479</td>\n",
       "      <td>1.214518</td>\n",
       "      <td>3.405158</td>\n",
       "      <td>-1.207456</td>\n",
       "      <td>-1.277210</td>\n",
       "      <td>-0.920492</td>\n",
       "      <td>0.163041</td>\n",
       "      <td>0.766689</td>\n",
       "      <td>0.839444</td>\n",
       "      <td>0.109853</td>\n",
       "      <td>1</td>\n",
       "    </tr>\n",
       "    <tr>\n",
       "      <th>3</th>\n",
       "      <td>0.716415</td>\n",
       "      <td>7.669600</td>\n",
       "      <td>4.486641</td>\n",
       "      <td>2.340563</td>\n",
       "      <td>3.963791</td>\n",
       "      <td>-1.027473</td>\n",
       "      <td>-1.938944</td>\n",
       "      <td>-0.997374</td>\n",
       "      <td>0.446209</td>\n",
       "      <td>0.976744</td>\n",
       "      <td>0.929381</td>\n",
       "      <td>0.362718</td>\n",
       "      <td>1</td>\n",
       "    </tr>\n",
       "    <tr>\n",
       "      <th>4</th>\n",
       "      <td>3.134112</td>\n",
       "      <td>7.608772</td>\n",
       "      <td>4.943759</td>\n",
       "      <td>9.857573</td>\n",
       "      <td>3.525811</td>\n",
       "      <td>-1.125531</td>\n",
       "      <td>-1.845975</td>\n",
       "      <td>-0.554305</td>\n",
       "      <td>0.797110</td>\n",
       "      <td>0.455450</td>\n",
       "      <td>0.656947</td>\n",
       "      <td>0.820923</td>\n",
       "      <td>1</td>\n",
       "    </tr>\n",
       "    <tr>\n",
       "      <th>...</th>\n",
       "      <td>...</td>\n",
       "      <td>...</td>\n",
       "      <td>...</td>\n",
       "      <td>...</td>\n",
       "      <td>...</td>\n",
       "      <td>...</td>\n",
       "      <td>...</td>\n",
       "      <td>...</td>\n",
       "      <td>...</td>\n",
       "      <td>...</td>\n",
       "      <td>...</td>\n",
       "      <td>...</td>\n",
       "      <td>...</td>\n",
       "    </tr>\n",
       "    <tr>\n",
       "      <th>9995</th>\n",
       "      <td>2.930406</td>\n",
       "      <td>9.487627</td>\n",
       "      <td>2.376523</td>\n",
       "      <td>6.187797</td>\n",
       "      <td>3.343416</td>\n",
       "      <td>-0.658054</td>\n",
       "      <td>-1.449106</td>\n",
       "      <td>-1.236256</td>\n",
       "      <td>0.601709</td>\n",
       "      <td>0.779642</td>\n",
       "      <td>0.813512</td>\n",
       "      <td>0.608385</td>\n",
       "      <td>1</td>\n",
       "    </tr>\n",
       "    <tr>\n",
       "      <th>9996</th>\n",
       "      <td>3.392299</td>\n",
       "      <td>1.274827</td>\n",
       "      <td>2.954947</td>\n",
       "      <td>6.894759</td>\n",
       "      <td>4.349512</td>\n",
       "      <td>-1.663661</td>\n",
       "      <td>-0.952437</td>\n",
       "      <td>-1.733414</td>\n",
       "      <td>0.502079</td>\n",
       "      <td>0.567242</td>\n",
       "      <td>0.285880</td>\n",
       "      <td>0.366120</td>\n",
       "      <td>0</td>\n",
       "    </tr>\n",
       "    <tr>\n",
       "      <th>9997</th>\n",
       "      <td>2.364034</td>\n",
       "      <td>2.842030</td>\n",
       "      <td>8.776391</td>\n",
       "      <td>1.008906</td>\n",
       "      <td>4.299976</td>\n",
       "      <td>-1.380719</td>\n",
       "      <td>-0.943884</td>\n",
       "      <td>-1.975373</td>\n",
       "      <td>0.487838</td>\n",
       "      <td>0.986505</td>\n",
       "      <td>0.149286</td>\n",
       "      <td>0.145984</td>\n",
       "      <td>0</td>\n",
       "    </tr>\n",
       "    <tr>\n",
       "      <th>9998</th>\n",
       "      <td>9.631511</td>\n",
       "      <td>3.994398</td>\n",
       "      <td>2.757071</td>\n",
       "      <td>7.821347</td>\n",
       "      <td>2.514755</td>\n",
       "      <td>-0.966330</td>\n",
       "      <td>-0.649915</td>\n",
       "      <td>-0.898510</td>\n",
       "      <td>0.365246</td>\n",
       "      <td>0.587558</td>\n",
       "      <td>0.889118</td>\n",
       "      <td>0.818391</td>\n",
       "      <td>1</td>\n",
       "    </tr>\n",
       "    <tr>\n",
       "      <th>9999</th>\n",
       "      <td>6.530527</td>\n",
       "      <td>6.781790</td>\n",
       "      <td>4.349695</td>\n",
       "      <td>8.673138</td>\n",
       "      <td>3.492807</td>\n",
       "      <td>-1.390285</td>\n",
       "      <td>-1.532193</td>\n",
       "      <td>-0.570329</td>\n",
       "      <td>0.073056</td>\n",
       "      <td>0.505441</td>\n",
       "      <td>0.378761</td>\n",
       "      <td>0.942631</td>\n",
       "      <td>1</td>\n",
       "    </tr>\n",
       "  </tbody>\n",
       "</table>\n",
       "<p>10000 rows × 13 columns</p>\n",
       "</div>"
      ],
      "text/plain": [
       "          tau1      tau2      tau3      tau4        p1        p2        p3  \\\n",
       "0     2.959060  3.079885  8.381025  9.780754  3.763085 -0.782604 -1.257395   \n",
       "1     9.304097  4.902524  3.047541  1.369357  5.067812 -1.940058 -1.872742   \n",
       "2     8.971707  8.848428  3.046479  1.214518  3.405158 -1.207456 -1.277210   \n",
       "3     0.716415  7.669600  4.486641  2.340563  3.963791 -1.027473 -1.938944   \n",
       "4     3.134112  7.608772  4.943759  9.857573  3.525811 -1.125531 -1.845975   \n",
       "...        ...       ...       ...       ...       ...       ...       ...   \n",
       "9995  2.930406  9.487627  2.376523  6.187797  3.343416 -0.658054 -1.449106   \n",
       "9996  3.392299  1.274827  2.954947  6.894759  4.349512 -1.663661 -0.952437   \n",
       "9997  2.364034  2.842030  8.776391  1.008906  4.299976 -1.380719 -0.943884   \n",
       "9998  9.631511  3.994398  2.757071  7.821347  2.514755 -0.966330 -0.649915   \n",
       "9999  6.530527  6.781790  4.349695  8.673138  3.492807 -1.390285 -1.532193   \n",
       "\n",
       "            p4        g1        g2        g3        g4  stabf  \n",
       "0    -1.723086  0.650456  0.859578  0.887445  0.958034      1  \n",
       "1    -1.255012  0.413441  0.862414  0.562139  0.781760      0  \n",
       "2    -0.920492  0.163041  0.766689  0.839444  0.109853      1  \n",
       "3    -0.997374  0.446209  0.976744  0.929381  0.362718      1  \n",
       "4    -0.554305  0.797110  0.455450  0.656947  0.820923      1  \n",
       "...        ...       ...       ...       ...       ...    ...  \n",
       "9995 -1.236256  0.601709  0.779642  0.813512  0.608385      1  \n",
       "9996 -1.733414  0.502079  0.567242  0.285880  0.366120      0  \n",
       "9997 -1.975373  0.487838  0.986505  0.149286  0.145984      0  \n",
       "9998 -0.898510  0.365246  0.587558  0.889118  0.818391      1  \n",
       "9999 -0.570329  0.073056  0.505441  0.378761  0.942631      1  \n",
       "\n",
       "[10000 rows x 13 columns]"
      ]
     },
     "execution_count": 14,
     "metadata": {},
     "output_type": "execute_result"
    }
   ],
   "source": [
    "new_uci_data"
   ]
  },
  {
   "cell_type": "code",
   "execution_count": 15,
   "id": "b6683f6a",
   "metadata": {},
   "outputs": [],
   "source": [
    "# dividing the along independent and dependent line\n",
    "\n",
    "X = new_uci_data.drop('stabf', axis=1)\n",
    "y = new_uci_data['stabf']"
   ]
  },
  {
   "cell_type": "code",
   "execution_count": 16,
   "id": "14a798eb",
   "metadata": {},
   "outputs": [
    {
     "data": {
      "text/html": [
       "<div>\n",
       "<style scoped>\n",
       "    .dataframe tbody tr th:only-of-type {\n",
       "        vertical-align: middle;\n",
       "    }\n",
       "\n",
       "    .dataframe tbody tr th {\n",
       "        vertical-align: top;\n",
       "    }\n",
       "\n",
       "    .dataframe thead th {\n",
       "        text-align: right;\n",
       "    }\n",
       "</style>\n",
       "<table border=\"1\" class=\"dataframe\">\n",
       "  <thead>\n",
       "    <tr style=\"text-align: right;\">\n",
       "      <th></th>\n",
       "      <th>tau1</th>\n",
       "      <th>tau2</th>\n",
       "      <th>tau3</th>\n",
       "      <th>tau4</th>\n",
       "      <th>p1</th>\n",
       "      <th>p2</th>\n",
       "      <th>p3</th>\n",
       "      <th>p4</th>\n",
       "      <th>g1</th>\n",
       "      <th>g2</th>\n",
       "      <th>g3</th>\n",
       "      <th>g4</th>\n",
       "    </tr>\n",
       "  </thead>\n",
       "  <tbody>\n",
       "    <tr>\n",
       "      <th>0</th>\n",
       "      <td>2.959060</td>\n",
       "      <td>3.079885</td>\n",
       "      <td>8.381025</td>\n",
       "      <td>9.780754</td>\n",
       "      <td>3.763085</td>\n",
       "      <td>-0.782604</td>\n",
       "      <td>-1.257395</td>\n",
       "      <td>-1.723086</td>\n",
       "      <td>0.650456</td>\n",
       "      <td>0.859578</td>\n",
       "      <td>0.887445</td>\n",
       "      <td>0.958034</td>\n",
       "    </tr>\n",
       "    <tr>\n",
       "      <th>1</th>\n",
       "      <td>9.304097</td>\n",
       "      <td>4.902524</td>\n",
       "      <td>3.047541</td>\n",
       "      <td>1.369357</td>\n",
       "      <td>5.067812</td>\n",
       "      <td>-1.940058</td>\n",
       "      <td>-1.872742</td>\n",
       "      <td>-1.255012</td>\n",
       "      <td>0.413441</td>\n",
       "      <td>0.862414</td>\n",
       "      <td>0.562139</td>\n",
       "      <td>0.781760</td>\n",
       "    </tr>\n",
       "    <tr>\n",
       "      <th>2</th>\n",
       "      <td>8.971707</td>\n",
       "      <td>8.848428</td>\n",
       "      <td>3.046479</td>\n",
       "      <td>1.214518</td>\n",
       "      <td>3.405158</td>\n",
       "      <td>-1.207456</td>\n",
       "      <td>-1.277210</td>\n",
       "      <td>-0.920492</td>\n",
       "      <td>0.163041</td>\n",
       "      <td>0.766689</td>\n",
       "      <td>0.839444</td>\n",
       "      <td>0.109853</td>\n",
       "    </tr>\n",
       "    <tr>\n",
       "      <th>3</th>\n",
       "      <td>0.716415</td>\n",
       "      <td>7.669600</td>\n",
       "      <td>4.486641</td>\n",
       "      <td>2.340563</td>\n",
       "      <td>3.963791</td>\n",
       "      <td>-1.027473</td>\n",
       "      <td>-1.938944</td>\n",
       "      <td>-0.997374</td>\n",
       "      <td>0.446209</td>\n",
       "      <td>0.976744</td>\n",
       "      <td>0.929381</td>\n",
       "      <td>0.362718</td>\n",
       "    </tr>\n",
       "    <tr>\n",
       "      <th>4</th>\n",
       "      <td>3.134112</td>\n",
       "      <td>7.608772</td>\n",
       "      <td>4.943759</td>\n",
       "      <td>9.857573</td>\n",
       "      <td>3.525811</td>\n",
       "      <td>-1.125531</td>\n",
       "      <td>-1.845975</td>\n",
       "      <td>-0.554305</td>\n",
       "      <td>0.797110</td>\n",
       "      <td>0.455450</td>\n",
       "      <td>0.656947</td>\n",
       "      <td>0.820923</td>\n",
       "    </tr>\n",
       "    <tr>\n",
       "      <th>...</th>\n",
       "      <td>...</td>\n",
       "      <td>...</td>\n",
       "      <td>...</td>\n",
       "      <td>...</td>\n",
       "      <td>...</td>\n",
       "      <td>...</td>\n",
       "      <td>...</td>\n",
       "      <td>...</td>\n",
       "      <td>...</td>\n",
       "      <td>...</td>\n",
       "      <td>...</td>\n",
       "      <td>...</td>\n",
       "    </tr>\n",
       "    <tr>\n",
       "      <th>9995</th>\n",
       "      <td>2.930406</td>\n",
       "      <td>9.487627</td>\n",
       "      <td>2.376523</td>\n",
       "      <td>6.187797</td>\n",
       "      <td>3.343416</td>\n",
       "      <td>-0.658054</td>\n",
       "      <td>-1.449106</td>\n",
       "      <td>-1.236256</td>\n",
       "      <td>0.601709</td>\n",
       "      <td>0.779642</td>\n",
       "      <td>0.813512</td>\n",
       "      <td>0.608385</td>\n",
       "    </tr>\n",
       "    <tr>\n",
       "      <th>9996</th>\n",
       "      <td>3.392299</td>\n",
       "      <td>1.274827</td>\n",
       "      <td>2.954947</td>\n",
       "      <td>6.894759</td>\n",
       "      <td>4.349512</td>\n",
       "      <td>-1.663661</td>\n",
       "      <td>-0.952437</td>\n",
       "      <td>-1.733414</td>\n",
       "      <td>0.502079</td>\n",
       "      <td>0.567242</td>\n",
       "      <td>0.285880</td>\n",
       "      <td>0.366120</td>\n",
       "    </tr>\n",
       "    <tr>\n",
       "      <th>9997</th>\n",
       "      <td>2.364034</td>\n",
       "      <td>2.842030</td>\n",
       "      <td>8.776391</td>\n",
       "      <td>1.008906</td>\n",
       "      <td>4.299976</td>\n",
       "      <td>-1.380719</td>\n",
       "      <td>-0.943884</td>\n",
       "      <td>-1.975373</td>\n",
       "      <td>0.487838</td>\n",
       "      <td>0.986505</td>\n",
       "      <td>0.149286</td>\n",
       "      <td>0.145984</td>\n",
       "    </tr>\n",
       "    <tr>\n",
       "      <th>9998</th>\n",
       "      <td>9.631511</td>\n",
       "      <td>3.994398</td>\n",
       "      <td>2.757071</td>\n",
       "      <td>7.821347</td>\n",
       "      <td>2.514755</td>\n",
       "      <td>-0.966330</td>\n",
       "      <td>-0.649915</td>\n",
       "      <td>-0.898510</td>\n",
       "      <td>0.365246</td>\n",
       "      <td>0.587558</td>\n",
       "      <td>0.889118</td>\n",
       "      <td>0.818391</td>\n",
       "    </tr>\n",
       "    <tr>\n",
       "      <th>9999</th>\n",
       "      <td>6.530527</td>\n",
       "      <td>6.781790</td>\n",
       "      <td>4.349695</td>\n",
       "      <td>8.673138</td>\n",
       "      <td>3.492807</td>\n",
       "      <td>-1.390285</td>\n",
       "      <td>-1.532193</td>\n",
       "      <td>-0.570329</td>\n",
       "      <td>0.073056</td>\n",
       "      <td>0.505441</td>\n",
       "      <td>0.378761</td>\n",
       "      <td>0.942631</td>\n",
       "    </tr>\n",
       "  </tbody>\n",
       "</table>\n",
       "<p>10000 rows × 12 columns</p>\n",
       "</div>"
      ],
      "text/plain": [
       "          tau1      tau2      tau3      tau4        p1        p2        p3  \\\n",
       "0     2.959060  3.079885  8.381025  9.780754  3.763085 -0.782604 -1.257395   \n",
       "1     9.304097  4.902524  3.047541  1.369357  5.067812 -1.940058 -1.872742   \n",
       "2     8.971707  8.848428  3.046479  1.214518  3.405158 -1.207456 -1.277210   \n",
       "3     0.716415  7.669600  4.486641  2.340563  3.963791 -1.027473 -1.938944   \n",
       "4     3.134112  7.608772  4.943759  9.857573  3.525811 -1.125531 -1.845975   \n",
       "...        ...       ...       ...       ...       ...       ...       ...   \n",
       "9995  2.930406  9.487627  2.376523  6.187797  3.343416 -0.658054 -1.449106   \n",
       "9996  3.392299  1.274827  2.954947  6.894759  4.349512 -1.663661 -0.952437   \n",
       "9997  2.364034  2.842030  8.776391  1.008906  4.299976 -1.380719 -0.943884   \n",
       "9998  9.631511  3.994398  2.757071  7.821347  2.514755 -0.966330 -0.649915   \n",
       "9999  6.530527  6.781790  4.349695  8.673138  3.492807 -1.390285 -1.532193   \n",
       "\n",
       "            p4        g1        g2        g3        g4  \n",
       "0    -1.723086  0.650456  0.859578  0.887445  0.958034  \n",
       "1    -1.255012  0.413441  0.862414  0.562139  0.781760  \n",
       "2    -0.920492  0.163041  0.766689  0.839444  0.109853  \n",
       "3    -0.997374  0.446209  0.976744  0.929381  0.362718  \n",
       "4    -0.554305  0.797110  0.455450  0.656947  0.820923  \n",
       "...        ...       ...       ...       ...       ...  \n",
       "9995 -1.236256  0.601709  0.779642  0.813512  0.608385  \n",
       "9996 -1.733414  0.502079  0.567242  0.285880  0.366120  \n",
       "9997 -1.975373  0.487838  0.986505  0.149286  0.145984  \n",
       "9998 -0.898510  0.365246  0.587558  0.889118  0.818391  \n",
       "9999 -0.570329  0.073056  0.505441  0.378761  0.942631  \n",
       "\n",
       "[10000 rows x 12 columns]"
      ]
     },
     "execution_count": 16,
     "metadata": {},
     "output_type": "execute_result"
    }
   ],
   "source": [
    "X"
   ]
  },
  {
   "cell_type": "code",
   "execution_count": 17,
   "id": "0f6337b8",
   "metadata": {},
   "outputs": [
    {
     "data": {
      "text/plain": [
       "0       1\n",
       "1       0\n",
       "2       1\n",
       "3       1\n",
       "4       1\n",
       "       ..\n",
       "9995    1\n",
       "9996    0\n",
       "9997    0\n",
       "9998    1\n",
       "9999    1\n",
       "Name: stabf, Length: 10000, dtype: int64"
      ]
     },
     "execution_count": 17,
     "metadata": {},
     "output_type": "execute_result"
    }
   ],
   "source": [
    "y"
   ]
  },
  {
   "cell_type": "code",
   "execution_count": 18,
   "id": "abc742bd",
   "metadata": {},
   "outputs": [],
   "source": [
    "# splitting the data to training and testing data set\n",
    "\n",
    "from sklearn.model_selection import train_test_split\n",
    "\n",
    "X_train, X_test, y_train, y_test = train_test_split(X, y,\n",
    "                                                   test_size=0.2,\n",
    "                                                   random_state=1)"
   ]
  },
  {
   "cell_type": "code",
   "execution_count": 19,
   "id": "88e047b9",
   "metadata": {},
   "outputs": [
    {
     "data": {
      "text/html": [
       "<div>\n",
       "<style scoped>\n",
       "    .dataframe tbody tr th:only-of-type {\n",
       "        vertical-align: middle;\n",
       "    }\n",
       "\n",
       "    .dataframe tbody tr th {\n",
       "        vertical-align: top;\n",
       "    }\n",
       "\n",
       "    .dataframe thead th {\n",
       "        text-align: right;\n",
       "    }\n",
       "</style>\n",
       "<table border=\"1\" class=\"dataframe\">\n",
       "  <thead>\n",
       "    <tr style=\"text-align: right;\">\n",
       "      <th></th>\n",
       "      <th>tau1</th>\n",
       "      <th>tau2</th>\n",
       "      <th>tau3</th>\n",
       "      <th>tau4</th>\n",
       "      <th>p1</th>\n",
       "      <th>p2</th>\n",
       "      <th>p3</th>\n",
       "      <th>p4</th>\n",
       "      <th>g1</th>\n",
       "      <th>g2</th>\n",
       "      <th>g3</th>\n",
       "      <th>g4</th>\n",
       "    </tr>\n",
       "  </thead>\n",
       "  <tbody>\n",
       "    <tr>\n",
       "      <th>2694</th>\n",
       "      <td>6.255995</td>\n",
       "      <td>2.542401</td>\n",
       "      <td>7.024714</td>\n",
       "      <td>9.476518</td>\n",
       "      <td>3.529888</td>\n",
       "      <td>-1.224881</td>\n",
       "      <td>-0.688228</td>\n",
       "      <td>-1.616780</td>\n",
       "      <td>0.568221</td>\n",
       "      <td>0.618403</td>\n",
       "      <td>0.685739</td>\n",
       "      <td>0.660088</td>\n",
       "    </tr>\n",
       "    <tr>\n",
       "      <th>5140</th>\n",
       "      <td>5.070581</td>\n",
       "      <td>5.490253</td>\n",
       "      <td>8.075688</td>\n",
       "      <td>0.761075</td>\n",
       "      <td>4.220888</td>\n",
       "      <td>-1.280596</td>\n",
       "      <td>-1.902185</td>\n",
       "      <td>-1.038107</td>\n",
       "      <td>0.443515</td>\n",
       "      <td>0.097244</td>\n",
       "      <td>0.916955</td>\n",
       "      <td>0.129254</td>\n",
       "    </tr>\n",
       "    <tr>\n",
       "      <th>2568</th>\n",
       "      <td>1.220072</td>\n",
       "      <td>8.804028</td>\n",
       "      <td>3.874283</td>\n",
       "      <td>8.433949</td>\n",
       "      <td>3.614027</td>\n",
       "      <td>-1.039236</td>\n",
       "      <td>-0.953566</td>\n",
       "      <td>-1.621224</td>\n",
       "      <td>0.908353</td>\n",
       "      <td>0.923594</td>\n",
       "      <td>0.238881</td>\n",
       "      <td>0.660156</td>\n",
       "    </tr>\n",
       "    <tr>\n",
       "      <th>3671</th>\n",
       "      <td>7.498402</td>\n",
       "      <td>6.697603</td>\n",
       "      <td>8.798626</td>\n",
       "      <td>2.126236</td>\n",
       "      <td>3.134585</td>\n",
       "      <td>-1.581906</td>\n",
       "      <td>-0.589386</td>\n",
       "      <td>-0.963293</td>\n",
       "      <td>0.260826</td>\n",
       "      <td>0.899003</td>\n",
       "      <td>0.964752</td>\n",
       "      <td>0.600598</td>\n",
       "    </tr>\n",
       "    <tr>\n",
       "      <th>7427</th>\n",
       "      <td>7.074006</td>\n",
       "      <td>1.337511</td>\n",
       "      <td>6.100756</td>\n",
       "      <td>7.759156</td>\n",
       "      <td>2.526922</td>\n",
       "      <td>-0.922540</td>\n",
       "      <td>-0.632600</td>\n",
       "      <td>-0.971782</td>\n",
       "      <td>0.984580</td>\n",
       "      <td>0.716082</td>\n",
       "      <td>0.836928</td>\n",
       "      <td>0.165162</td>\n",
       "    </tr>\n",
       "    <tr>\n",
       "      <th>...</th>\n",
       "      <td>...</td>\n",
       "      <td>...</td>\n",
       "      <td>...</td>\n",
       "      <td>...</td>\n",
       "      <td>...</td>\n",
       "      <td>...</td>\n",
       "      <td>...</td>\n",
       "      <td>...</td>\n",
       "      <td>...</td>\n",
       "      <td>...</td>\n",
       "      <td>...</td>\n",
       "      <td>...</td>\n",
       "    </tr>\n",
       "    <tr>\n",
       "      <th>2895</th>\n",
       "      <td>9.504984</td>\n",
       "      <td>5.265415</td>\n",
       "      <td>2.029617</td>\n",
       "      <td>8.026334</td>\n",
       "      <td>3.449756</td>\n",
       "      <td>-0.922754</td>\n",
       "      <td>-1.526305</td>\n",
       "      <td>-1.000696</td>\n",
       "      <td>0.191864</td>\n",
       "      <td>0.611297</td>\n",
       "      <td>0.080008</td>\n",
       "      <td>0.350312</td>\n",
       "    </tr>\n",
       "    <tr>\n",
       "      <th>7813</th>\n",
       "      <td>8.035818</td>\n",
       "      <td>4.632548</td>\n",
       "      <td>1.177810</td>\n",
       "      <td>1.204950</td>\n",
       "      <td>4.093208</td>\n",
       "      <td>-1.568218</td>\n",
       "      <td>-0.819966</td>\n",
       "      <td>-1.705024</td>\n",
       "      <td>0.223384</td>\n",
       "      <td>0.317770</td>\n",
       "      <td>0.726623</td>\n",
       "      <td>0.441620</td>\n",
       "    </tr>\n",
       "    <tr>\n",
       "      <th>905</th>\n",
       "      <td>7.052560</td>\n",
       "      <td>3.264057</td>\n",
       "      <td>1.405949</td>\n",
       "      <td>4.497549</td>\n",
       "      <td>3.741358</td>\n",
       "      <td>-0.629026</td>\n",
       "      <td>-1.407945</td>\n",
       "      <td>-1.704387</td>\n",
       "      <td>0.868306</td>\n",
       "      <td>0.605566</td>\n",
       "      <td>0.100591</td>\n",
       "      <td>0.747320</td>\n",
       "    </tr>\n",
       "    <tr>\n",
       "      <th>5192</th>\n",
       "      <td>5.085242</td>\n",
       "      <td>1.790031</td>\n",
       "      <td>2.486392</td>\n",
       "      <td>2.848192</td>\n",
       "      <td>3.159670</td>\n",
       "      <td>-0.892898</td>\n",
       "      <td>-1.025461</td>\n",
       "      <td>-1.241311</td>\n",
       "      <td>0.473917</td>\n",
       "      <td>0.418512</td>\n",
       "      <td>0.326253</td>\n",
       "      <td>0.982488</td>\n",
       "    </tr>\n",
       "    <tr>\n",
       "      <th>235</th>\n",
       "      <td>1.205354</td>\n",
       "      <td>6.995045</td>\n",
       "      <td>5.930860</td>\n",
       "      <td>2.523856</td>\n",
       "      <td>5.230127</td>\n",
       "      <td>-1.755047</td>\n",
       "      <td>-1.567927</td>\n",
       "      <td>-1.907153</td>\n",
       "      <td>0.861961</td>\n",
       "      <td>0.202768</td>\n",
       "      <td>0.848373</td>\n",
       "      <td>0.739993</td>\n",
       "    </tr>\n",
       "  </tbody>\n",
       "</table>\n",
       "<p>8000 rows × 12 columns</p>\n",
       "</div>"
      ],
      "text/plain": [
       "          tau1      tau2      tau3      tau4        p1        p2        p3  \\\n",
       "2694  6.255995  2.542401  7.024714  9.476518  3.529888 -1.224881 -0.688228   \n",
       "5140  5.070581  5.490253  8.075688  0.761075  4.220888 -1.280596 -1.902185   \n",
       "2568  1.220072  8.804028  3.874283  8.433949  3.614027 -1.039236 -0.953566   \n",
       "3671  7.498402  6.697603  8.798626  2.126236  3.134585 -1.581906 -0.589386   \n",
       "7427  7.074006  1.337511  6.100756  7.759156  2.526922 -0.922540 -0.632600   \n",
       "...        ...       ...       ...       ...       ...       ...       ...   \n",
       "2895  9.504984  5.265415  2.029617  8.026334  3.449756 -0.922754 -1.526305   \n",
       "7813  8.035818  4.632548  1.177810  1.204950  4.093208 -1.568218 -0.819966   \n",
       "905   7.052560  3.264057  1.405949  4.497549  3.741358 -0.629026 -1.407945   \n",
       "5192  5.085242  1.790031  2.486392  2.848192  3.159670 -0.892898 -1.025461   \n",
       "235   1.205354  6.995045  5.930860  2.523856  5.230127 -1.755047 -1.567927   \n",
       "\n",
       "            p4        g1        g2        g3        g4  \n",
       "2694 -1.616780  0.568221  0.618403  0.685739  0.660088  \n",
       "5140 -1.038107  0.443515  0.097244  0.916955  0.129254  \n",
       "2568 -1.621224  0.908353  0.923594  0.238881  0.660156  \n",
       "3671 -0.963293  0.260826  0.899003  0.964752  0.600598  \n",
       "7427 -0.971782  0.984580  0.716082  0.836928  0.165162  \n",
       "...        ...       ...       ...       ...       ...  \n",
       "2895 -1.000696  0.191864  0.611297  0.080008  0.350312  \n",
       "7813 -1.705024  0.223384  0.317770  0.726623  0.441620  \n",
       "905  -1.704387  0.868306  0.605566  0.100591  0.747320  \n",
       "5192 -1.241311  0.473917  0.418512  0.326253  0.982488  \n",
       "235  -1.907153  0.861961  0.202768  0.848373  0.739993  \n",
       "\n",
       "[8000 rows x 12 columns]"
      ]
     },
     "execution_count": 19,
     "metadata": {},
     "output_type": "execute_result"
    }
   ],
   "source": [
    "X_train"
   ]
  },
  {
   "cell_type": "code",
   "execution_count": 20,
   "id": "26b44494",
   "metadata": {},
   "outputs": [
    {
     "data": {
      "text/html": [
       "<div>\n",
       "<style scoped>\n",
       "    .dataframe tbody tr th:only-of-type {\n",
       "        vertical-align: middle;\n",
       "    }\n",
       "\n",
       "    .dataframe tbody tr th {\n",
       "        vertical-align: top;\n",
       "    }\n",
       "\n",
       "    .dataframe thead th {\n",
       "        text-align: right;\n",
       "    }\n",
       "</style>\n",
       "<table border=\"1\" class=\"dataframe\">\n",
       "  <thead>\n",
       "    <tr style=\"text-align: right;\">\n",
       "      <th></th>\n",
       "      <th>tau1</th>\n",
       "      <th>tau2</th>\n",
       "      <th>tau3</th>\n",
       "      <th>tau4</th>\n",
       "      <th>p1</th>\n",
       "      <th>p2</th>\n",
       "      <th>p3</th>\n",
       "      <th>p4</th>\n",
       "      <th>g1</th>\n",
       "      <th>g2</th>\n",
       "      <th>g3</th>\n",
       "      <th>g4</th>\n",
       "    </tr>\n",
       "  </thead>\n",
       "  <tbody>\n",
       "    <tr>\n",
       "      <th>9953</th>\n",
       "      <td>6.877876</td>\n",
       "      <td>4.113820</td>\n",
       "      <td>9.356768</td>\n",
       "      <td>8.299753</td>\n",
       "      <td>4.056779</td>\n",
       "      <td>-1.897470</td>\n",
       "      <td>-1.590581</td>\n",
       "      <td>-0.568728</td>\n",
       "      <td>0.276567</td>\n",
       "      <td>0.845536</td>\n",
       "      <td>0.112440</td>\n",
       "      <td>0.822562</td>\n",
       "    </tr>\n",
       "    <tr>\n",
       "      <th>3850</th>\n",
       "      <td>5.802841</td>\n",
       "      <td>6.271371</td>\n",
       "      <td>4.731540</td>\n",
       "      <td>3.819867</td>\n",
       "      <td>3.579569</td>\n",
       "      <td>-1.709480</td>\n",
       "      <td>-1.067511</td>\n",
       "      <td>-0.802579</td>\n",
       "      <td>0.077527</td>\n",
       "      <td>0.416478</td>\n",
       "      <td>0.912846</td>\n",
       "      <td>0.861306</td>\n",
       "    </tr>\n",
       "    <tr>\n",
       "      <th>4962</th>\n",
       "      <td>2.286998</td>\n",
       "      <td>4.385142</td>\n",
       "      <td>2.830232</td>\n",
       "      <td>5.293880</td>\n",
       "      <td>3.035814</td>\n",
       "      <td>-1.202764</td>\n",
       "      <td>-0.902011</td>\n",
       "      <td>-0.931039</td>\n",
       "      <td>0.924216</td>\n",
       "      <td>0.130186</td>\n",
       "      <td>0.703887</td>\n",
       "      <td>0.063811</td>\n",
       "    </tr>\n",
       "    <tr>\n",
       "      <th>3886</th>\n",
       "      <td>5.019920</td>\n",
       "      <td>2.209962</td>\n",
       "      <td>6.266080</td>\n",
       "      <td>0.578901</td>\n",
       "      <td>4.322584</td>\n",
       "      <td>-1.960207</td>\n",
       "      <td>-1.074561</td>\n",
       "      <td>-1.287815</td>\n",
       "      <td>0.546910</td>\n",
       "      <td>0.065992</td>\n",
       "      <td>0.427349</td>\n",
       "      <td>0.814648</td>\n",
       "    </tr>\n",
       "    <tr>\n",
       "      <th>5437</th>\n",
       "      <td>7.646145</td>\n",
       "      <td>9.187896</td>\n",
       "      <td>5.484219</td>\n",
       "      <td>9.934313</td>\n",
       "      <td>3.634226</td>\n",
       "      <td>-1.254541</td>\n",
       "      <td>-1.335366</td>\n",
       "      <td>-1.044319</td>\n",
       "      <td>0.561528</td>\n",
       "      <td>0.121611</td>\n",
       "      <td>0.787318</td>\n",
       "      <td>0.300314</td>\n",
       "    </tr>\n",
       "    <tr>\n",
       "      <th>...</th>\n",
       "      <td>...</td>\n",
       "      <td>...</td>\n",
       "      <td>...</td>\n",
       "      <td>...</td>\n",
       "      <td>...</td>\n",
       "      <td>...</td>\n",
       "      <td>...</td>\n",
       "      <td>...</td>\n",
       "      <td>...</td>\n",
       "      <td>...</td>\n",
       "      <td>...</td>\n",
       "      <td>...</td>\n",
       "    </tr>\n",
       "    <tr>\n",
       "      <th>3919</th>\n",
       "      <td>8.320531</td>\n",
       "      <td>3.394352</td>\n",
       "      <td>1.468729</td>\n",
       "      <td>8.766874</td>\n",
       "      <td>3.940123</td>\n",
       "      <td>-1.599081</td>\n",
       "      <td>-0.931023</td>\n",
       "      <td>-1.410020</td>\n",
       "      <td>0.657445</td>\n",
       "      <td>0.493384</td>\n",
       "      <td>0.178907</td>\n",
       "      <td>0.173240</td>\n",
       "    </tr>\n",
       "    <tr>\n",
       "      <th>162</th>\n",
       "      <td>2.290102</td>\n",
       "      <td>3.028512</td>\n",
       "      <td>8.071234</td>\n",
       "      <td>6.169944</td>\n",
       "      <td>3.624592</td>\n",
       "      <td>-1.104003</td>\n",
       "      <td>-0.820951</td>\n",
       "      <td>-1.699638</td>\n",
       "      <td>0.785595</td>\n",
       "      <td>0.770194</td>\n",
       "      <td>0.234290</td>\n",
       "      <td>0.225070</td>\n",
       "    </tr>\n",
       "    <tr>\n",
       "      <th>7903</th>\n",
       "      <td>7.848945</td>\n",
       "      <td>0.684889</td>\n",
       "      <td>0.728223</td>\n",
       "      <td>6.702948</td>\n",
       "      <td>2.599685</td>\n",
       "      <td>-0.563497</td>\n",
       "      <td>-1.210069</td>\n",
       "      <td>-0.826119</td>\n",
       "      <td>0.185122</td>\n",
       "      <td>0.559799</td>\n",
       "      <td>0.682418</td>\n",
       "      <td>0.886902</td>\n",
       "    </tr>\n",
       "    <tr>\n",
       "      <th>2242</th>\n",
       "      <td>2.173967</td>\n",
       "      <td>5.776797</td>\n",
       "      <td>4.597638</td>\n",
       "      <td>6.399330</td>\n",
       "      <td>2.869349</td>\n",
       "      <td>-0.931891</td>\n",
       "      <td>-1.237955</td>\n",
       "      <td>-0.699503</td>\n",
       "      <td>0.942680</td>\n",
       "      <td>0.743103</td>\n",
       "      <td>0.152161</td>\n",
       "      <td>0.305183</td>\n",
       "    </tr>\n",
       "    <tr>\n",
       "      <th>2745</th>\n",
       "      <td>1.467618</td>\n",
       "      <td>9.389085</td>\n",
       "      <td>6.019740</td>\n",
       "      <td>9.376247</td>\n",
       "      <td>4.242404</td>\n",
       "      <td>-1.894794</td>\n",
       "      <td>-1.589085</td>\n",
       "      <td>-0.758525</td>\n",
       "      <td>0.659519</td>\n",
       "      <td>0.273217</td>\n",
       "      <td>0.526145</td>\n",
       "      <td>0.851163</td>\n",
       "    </tr>\n",
       "  </tbody>\n",
       "</table>\n",
       "<p>2000 rows × 12 columns</p>\n",
       "</div>"
      ],
      "text/plain": [
       "          tau1      tau2      tau3      tau4        p1        p2        p3  \\\n",
       "9953  6.877876  4.113820  9.356768  8.299753  4.056779 -1.897470 -1.590581   \n",
       "3850  5.802841  6.271371  4.731540  3.819867  3.579569 -1.709480 -1.067511   \n",
       "4962  2.286998  4.385142  2.830232  5.293880  3.035814 -1.202764 -0.902011   \n",
       "3886  5.019920  2.209962  6.266080  0.578901  4.322584 -1.960207 -1.074561   \n",
       "5437  7.646145  9.187896  5.484219  9.934313  3.634226 -1.254541 -1.335366   \n",
       "...        ...       ...       ...       ...       ...       ...       ...   \n",
       "3919  8.320531  3.394352  1.468729  8.766874  3.940123 -1.599081 -0.931023   \n",
       "162   2.290102  3.028512  8.071234  6.169944  3.624592 -1.104003 -0.820951   \n",
       "7903  7.848945  0.684889  0.728223  6.702948  2.599685 -0.563497 -1.210069   \n",
       "2242  2.173967  5.776797  4.597638  6.399330  2.869349 -0.931891 -1.237955   \n",
       "2745  1.467618  9.389085  6.019740  9.376247  4.242404 -1.894794 -1.589085   \n",
       "\n",
       "            p4        g1        g2        g3        g4  \n",
       "9953 -0.568728  0.276567  0.845536  0.112440  0.822562  \n",
       "3850 -0.802579  0.077527  0.416478  0.912846  0.861306  \n",
       "4962 -0.931039  0.924216  0.130186  0.703887  0.063811  \n",
       "3886 -1.287815  0.546910  0.065992  0.427349  0.814648  \n",
       "5437 -1.044319  0.561528  0.121611  0.787318  0.300314  \n",
       "...        ...       ...       ...       ...       ...  \n",
       "3919 -1.410020  0.657445  0.493384  0.178907  0.173240  \n",
       "162  -1.699638  0.785595  0.770194  0.234290  0.225070  \n",
       "7903 -0.826119  0.185122  0.559799  0.682418  0.886902  \n",
       "2242 -0.699503  0.942680  0.743103  0.152161  0.305183  \n",
       "2745 -0.758525  0.659519  0.273217  0.526145  0.851163  \n",
       "\n",
       "[2000 rows x 12 columns]"
      ]
     },
     "execution_count": 20,
     "metadata": {},
     "output_type": "execute_result"
    }
   ],
   "source": [
    "X_test"
   ]
  },
  {
   "cell_type": "code",
   "execution_count": 21,
   "id": "94677cb2",
   "metadata": {},
   "outputs": [
    {
     "data": {
      "text/plain": [
       "1    5092\n",
       "0    2908\n",
       "Name: stabf, dtype: int64"
      ]
     },
     "execution_count": 21,
     "metadata": {},
     "output_type": "execute_result"
    }
   ],
   "source": [
    "# checking the target distribution of the y_train\n",
    "\n",
    "y_train.value_counts()"
   ]
  },
  {
   "cell_type": "markdown",
   "id": "f84e0499",
   "metadata": {},
   "source": [
    "Since we will be training our model with training dataset, from the above outcome, there is an imbalance in the class distribution of the target variable \n",
    "\n",
    "\n",
    "**We will be over sampling the fewer class to overwrite the imbalance in the target varible**"
   ]
  },
  {
   "cell_type": "code",
   "execution_count": 22,
   "id": "14612250",
   "metadata": {},
   "outputs": [
    {
     "data": {
      "text/plain": [
       "1    1288\n",
       "0     712\n",
       "Name: stabf, dtype: int64"
      ]
     },
     "execution_count": 22,
     "metadata": {},
     "output_type": "execute_result"
    }
   ],
   "source": [
    "# checking the target distribution of the y_test\n",
    "\n",
    "y_test.value_counts()"
   ]
  },
  {
   "cell_type": "code",
   "execution_count": 23,
   "id": "2b417f98",
   "metadata": {},
   "outputs": [],
   "source": [
    "# Handling the imbalance in the labels distribution \n",
    "\n",
    "import imblearn\n",
    "from imblearn.over_sampling import SMOTE\n"
   ]
  },
  {
   "cell_type": "code",
   "execution_count": 24,
   "id": "c03df087",
   "metadata": {},
   "outputs": [],
   "source": [
    "# instantiating the smote \n",
    "\n",
    "smote = SMOTE(random_state=1)"
   ]
  },
  {
   "cell_type": "code",
   "execution_count": 25,
   "id": "3e5fc121",
   "metadata": {},
   "outputs": [],
   "source": [
    "# fitting and balancing the distributions of the labels\n",
    "\n",
    "X_train_balanced, y_balanced = smote.fit_sample(X_train, y_train)\n",
    "\n",
    "\n"
   ]
  },
  {
   "cell_type": "code",
   "execution_count": 26,
   "id": "da568f58",
   "metadata": {},
   "outputs": [
    {
     "data": {
      "text/plain": [
       "0    5092\n",
       "1    5092\n",
       "Name: stabf, dtype: int64"
      ]
     },
     "execution_count": 26,
     "metadata": {},
     "output_type": "execute_result"
    }
   ],
   "source": [
    "y_balanced.value_counts()"
   ]
  },
  {
   "cell_type": "code",
   "execution_count": 27,
   "id": "d6cb9e9a",
   "metadata": {},
   "outputs": [
    {
     "data": {
      "text/plain": [
       "0     1\n",
       "1     1\n",
       "2     1\n",
       "3     1\n",
       "4     1\n",
       "5     0\n",
       "6     1\n",
       "7     0\n",
       "8     1\n",
       "9     1\n",
       "10    1\n",
       "11    0\n",
       "12    0\n",
       "13    0\n",
       "14    0\n",
       "15    0\n",
       "16    1\n",
       "17    1\n",
       "18    0\n",
       "19    1\n",
       "Name: stabf, dtype: int64"
      ]
     },
     "execution_count": 27,
     "metadata": {},
     "output_type": "execute_result"
    }
   ],
   "source": [
    "y_balanced.head(20)"
   ]
  },
  {
   "cell_type": "markdown",
   "id": "6583f3d1",
   "metadata": {},
   "source": [
    "**standardizing both the training and testing dataset of the predictor variables**"
   ]
  },
  {
   "cell_type": "code",
   "execution_count": 28,
   "id": "f52bcc76",
   "metadata": {},
   "outputs": [],
   "source": [
    "from sklearn.preprocessing import StandardScaler"
   ]
  },
  {
   "cell_type": "code",
   "execution_count": 29,
   "id": "beb10e70",
   "metadata": {},
   "outputs": [],
   "source": [
    "# instantiating the scaler \n",
    "\n",
    "scaler = StandardScaler()"
   ]
  },
  {
   "cell_type": "code",
   "execution_count": 30,
   "id": "c7ca0ff0",
   "metadata": {},
   "outputs": [],
   "source": [
    "stand_x_train = scaler.fit_transform(X_train_balanced)"
   ]
  },
  {
   "cell_type": "code",
   "execution_count": 31,
   "id": "a97f630b",
   "metadata": {},
   "outputs": [
    {
     "data": {
      "text/html": [
       "<div>\n",
       "<style scoped>\n",
       "    .dataframe tbody tr th:only-of-type {\n",
       "        vertical-align: middle;\n",
       "    }\n",
       "\n",
       "    .dataframe tbody tr th {\n",
       "        vertical-align: top;\n",
       "    }\n",
       "\n",
       "    .dataframe thead th {\n",
       "        text-align: right;\n",
       "    }\n",
       "</style>\n",
       "<table border=\"1\" class=\"dataframe\">\n",
       "  <thead>\n",
       "    <tr style=\"text-align: right;\">\n",
       "      <th></th>\n",
       "      <th>tau1</th>\n",
       "      <th>tau2</th>\n",
       "      <th>tau3</th>\n",
       "      <th>tau4</th>\n",
       "      <th>p1</th>\n",
       "      <th>p2</th>\n",
       "      <th>p3</th>\n",
       "      <th>p4</th>\n",
       "      <th>g1</th>\n",
       "      <th>g2</th>\n",
       "      <th>g3</th>\n",
       "      <th>g4</th>\n",
       "    </tr>\n",
       "  </thead>\n",
       "  <tbody>\n",
       "    <tr>\n",
       "      <th>0</th>\n",
       "      <td>0.431352</td>\n",
       "      <td>-0.906078</td>\n",
       "      <td>0.709472</td>\n",
       "      <td>1.601487</td>\n",
       "      <td>-0.299634</td>\n",
       "      <td>0.070986</td>\n",
       "      <td>1.327370</td>\n",
       "      <td>-0.875325</td>\n",
       "      <td>0.227072</td>\n",
       "      <td>0.416592</td>\n",
       "      <td>0.675795</td>\n",
       "      <td>0.567770</td>\n",
       "    </tr>\n",
       "    <tr>\n",
       "      <th>1</th>\n",
       "      <td>0.007043</td>\n",
       "      <td>0.151748</td>\n",
       "      <td>1.089400</td>\n",
       "      <td>-1.545174</td>\n",
       "      <td>0.636265</td>\n",
       "      <td>-0.061013</td>\n",
       "      <td>-1.541948</td>\n",
       "      <td>0.492481</td>\n",
       "      <td>-0.241282</td>\n",
       "      <td>-1.540004</td>\n",
       "      <td>1.547891</td>\n",
       "      <td>-1.427980</td>\n",
       "    </tr>\n",
       "    <tr>\n",
       "      <th>2</th>\n",
       "      <td>-1.371213</td>\n",
       "      <td>1.340884</td>\n",
       "      <td>-0.429412</td>\n",
       "      <td>1.225073</td>\n",
       "      <td>-0.185676</td>\n",
       "      <td>0.510814</td>\n",
       "      <td>0.700214</td>\n",
       "      <td>-0.885831</td>\n",
       "      <td>1.504487</td>\n",
       "      <td>1.562377</td>\n",
       "      <td>-1.009660</td>\n",
       "      <td>0.568027</td>\n",
       "    </tr>\n",
       "    <tr>\n",
       "      <th>3</th>\n",
       "      <td>0.876060</td>\n",
       "      <td>0.585001</td>\n",
       "      <td>1.350743</td>\n",
       "      <td>-1.052290</td>\n",
       "      <td>-0.835039</td>\n",
       "      <td>-0.774873</td>\n",
       "      <td>1.560992</td>\n",
       "      <td>0.669318</td>\n",
       "      <td>-0.927397</td>\n",
       "      <td>1.470053</td>\n",
       "      <td>1.728175</td>\n",
       "      <td>0.344110</td>\n",
       "    </tr>\n",
       "    <tr>\n",
       "      <th>4</th>\n",
       "      <td>0.724152</td>\n",
       "      <td>-1.338448</td>\n",
       "      <td>0.375461</td>\n",
       "      <td>0.981443</td>\n",
       "      <td>-1.658064</td>\n",
       "      <td>0.787290</td>\n",
       "      <td>1.458851</td>\n",
       "      <td>0.649251</td>\n",
       "      <td>1.790768</td>\n",
       "      <td>0.783310</td>\n",
       "      <td>1.246050</td>\n",
       "      <td>-1.292976</td>\n",
       "    </tr>\n",
       "    <tr>\n",
       "      <th>...</th>\n",
       "      <td>...</td>\n",
       "      <td>...</td>\n",
       "      <td>...</td>\n",
       "      <td>...</td>\n",
       "      <td>...</td>\n",
       "      <td>...</td>\n",
       "      <td>...</td>\n",
       "      <td>...</td>\n",
       "      <td>...</td>\n",
       "      <td>...</td>\n",
       "      <td>...</td>\n",
       "      <td>...</td>\n",
       "    </tr>\n",
       "    <tr>\n",
       "      <th>10179</th>\n",
       "      <td>-0.373458</td>\n",
       "      <td>-1.117658</td>\n",
       "      <td>0.568207</td>\n",
       "      <td>-1.519188</td>\n",
       "      <td>-1.076505</td>\n",
       "      <td>0.785933</td>\n",
       "      <td>-0.001746</td>\n",
       "      <td>1.096330</td>\n",
       "      <td>-0.584156</td>\n",
       "      <td>-0.276447</td>\n",
       "      <td>0.041123</td>\n",
       "      <td>0.826954</td>\n",
       "    </tr>\n",
       "    <tr>\n",
       "      <th>10180</th>\n",
       "      <td>-1.451654</td>\n",
       "      <td>-0.835561</td>\n",
       "      <td>1.222408</td>\n",
       "      <td>1.185053</td>\n",
       "      <td>-1.326430</td>\n",
       "      <td>1.205379</td>\n",
       "      <td>-0.164007</td>\n",
       "      <td>1.276288</td>\n",
       "      <td>1.477809</td>\n",
       "      <td>-0.539330</td>\n",
       "      <td>-0.581280</td>\n",
       "      <td>-1.108805</td>\n",
       "    </tr>\n",
       "    <tr>\n",
       "      <th>10181</th>\n",
       "      <td>-0.010422</td>\n",
       "      <td>-1.306042</td>\n",
       "      <td>-1.527579</td>\n",
       "      <td>-0.549530</td>\n",
       "      <td>-1.359934</td>\n",
       "      <td>0.040556</td>\n",
       "      <td>1.035499</td>\n",
       "      <td>1.297329</td>\n",
       "      <td>0.663560</td>\n",
       "      <td>-0.452264</td>\n",
       "      <td>0.166377</td>\n",
       "      <td>-1.489641</td>\n",
       "    </tr>\n",
       "    <tr>\n",
       "      <th>10182</th>\n",
       "      <td>-0.267590</td>\n",
       "      <td>-1.382194</td>\n",
       "      <td>-1.213566</td>\n",
       "      <td>1.501028</td>\n",
       "      <td>0.403488</td>\n",
       "      <td>0.774435</td>\n",
       "      <td>-1.716730</td>\n",
       "      <td>0.239997</td>\n",
       "      <td>-0.882891</td>\n",
       "      <td>-0.033430</td>\n",
       "      <td>-1.215899</td>\n",
       "      <td>1.243240</td>\n",
       "    </tr>\n",
       "    <tr>\n",
       "      <th>10183</th>\n",
       "      <td>0.095843</td>\n",
       "      <td>0.865503</td>\n",
       "      <td>-1.079934</td>\n",
       "      <td>-1.127616</td>\n",
       "      <td>0.709278</td>\n",
       "      <td>0.327297</td>\n",
       "      <td>-1.233119</td>\n",
       "      <td>-0.331191</td>\n",
       "      <td>0.092335</td>\n",
       "      <td>-0.301713</td>\n",
       "      <td>0.205425</td>\n",
       "      <td>0.107636</td>\n",
       "    </tr>\n",
       "  </tbody>\n",
       "</table>\n",
       "<p>10184 rows × 12 columns</p>\n",
       "</div>"
      ],
      "text/plain": [
       "           tau1      tau2      tau3      tau4        p1        p2        p3  \\\n",
       "0      0.431352 -0.906078  0.709472  1.601487 -0.299634  0.070986  1.327370   \n",
       "1      0.007043  0.151748  1.089400 -1.545174  0.636265 -0.061013 -1.541948   \n",
       "2     -1.371213  1.340884 -0.429412  1.225073 -0.185676  0.510814  0.700214   \n",
       "3      0.876060  0.585001  1.350743 -1.052290 -0.835039 -0.774873  1.560992   \n",
       "4      0.724152 -1.338448  0.375461  0.981443 -1.658064  0.787290  1.458851   \n",
       "...         ...       ...       ...       ...       ...       ...       ...   \n",
       "10179 -0.373458 -1.117658  0.568207 -1.519188 -1.076505  0.785933 -0.001746   \n",
       "10180 -1.451654 -0.835561  1.222408  1.185053 -1.326430  1.205379 -0.164007   \n",
       "10181 -0.010422 -1.306042 -1.527579 -0.549530 -1.359934  0.040556  1.035499   \n",
       "10182 -0.267590 -1.382194 -1.213566  1.501028  0.403488  0.774435 -1.716730   \n",
       "10183  0.095843  0.865503 -1.079934 -1.127616  0.709278  0.327297 -1.233119   \n",
       "\n",
       "             p4        g1        g2        g3        g4  \n",
       "0     -0.875325  0.227072  0.416592  0.675795  0.567770  \n",
       "1      0.492481 -0.241282 -1.540004  1.547891 -1.427980  \n",
       "2     -0.885831  1.504487  1.562377 -1.009660  0.568027  \n",
       "3      0.669318 -0.927397  1.470053  1.728175  0.344110  \n",
       "4      0.649251  1.790768  0.783310  1.246050 -1.292976  \n",
       "...         ...       ...       ...       ...       ...  \n",
       "10179  1.096330 -0.584156 -0.276447  0.041123  0.826954  \n",
       "10180  1.276288  1.477809 -0.539330 -0.581280 -1.108805  \n",
       "10181  1.297329  0.663560 -0.452264  0.166377 -1.489641  \n",
       "10182  0.239997 -0.882891 -0.033430 -1.215899  1.243240  \n",
       "10183 -0.331191  0.092335 -0.301713  0.205425  0.107636  \n",
       "\n",
       "[10184 rows x 12 columns]"
      ]
     },
     "execution_count": 31,
     "metadata": {},
     "output_type": "execute_result"
    }
   ],
   "source": [
    "# making a dataframe for the standardised data\n",
    "\n",
    "X_train_df = pd.DataFrame(stand_x_train,\n",
    "                          columns=X_train_balanced.columns)\n",
    "\n",
    "X_train_df"
   ]
  },
  {
   "cell_type": "markdown",
   "id": "9d623919",
   "metadata": {},
   "source": [
    "Since X_train dataset has been standardised, we proceed to standardise the X_test"
   ]
  },
  {
   "cell_type": "code",
   "execution_count": 32,
   "id": "d6e45dc4",
   "metadata": {},
   "outputs": [
    {
     "data": {
      "text/html": [
       "<div>\n",
       "<style scoped>\n",
       "    .dataframe tbody tr th:only-of-type {\n",
       "        vertical-align: middle;\n",
       "    }\n",
       "\n",
       "    .dataframe tbody tr th {\n",
       "        vertical-align: top;\n",
       "    }\n",
       "\n",
       "    .dataframe thead th {\n",
       "        text-align: right;\n",
       "    }\n",
       "</style>\n",
       "<table border=\"1\" class=\"dataframe\">\n",
       "  <thead>\n",
       "    <tr style=\"text-align: right;\">\n",
       "      <th></th>\n",
       "      <th>tau1</th>\n",
       "      <th>tau2</th>\n",
       "      <th>tau3</th>\n",
       "      <th>tau4</th>\n",
       "      <th>p1</th>\n",
       "      <th>p2</th>\n",
       "      <th>p3</th>\n",
       "      <th>p4</th>\n",
       "      <th>g1</th>\n",
       "      <th>g2</th>\n",
       "      <th>g3</th>\n",
       "      <th>g4</th>\n",
       "    </tr>\n",
       "  </thead>\n",
       "  <tbody>\n",
       "    <tr>\n",
       "      <th>9953</th>\n",
       "      <td>6.877876</td>\n",
       "      <td>4.113820</td>\n",
       "      <td>9.356768</td>\n",
       "      <td>8.299753</td>\n",
       "      <td>4.056779</td>\n",
       "      <td>-1.897470</td>\n",
       "      <td>-1.590581</td>\n",
       "      <td>-0.568728</td>\n",
       "      <td>0.276567</td>\n",
       "      <td>0.845536</td>\n",
       "      <td>0.112440</td>\n",
       "      <td>0.822562</td>\n",
       "    </tr>\n",
       "    <tr>\n",
       "      <th>3850</th>\n",
       "      <td>5.802841</td>\n",
       "      <td>6.271371</td>\n",
       "      <td>4.731540</td>\n",
       "      <td>3.819867</td>\n",
       "      <td>3.579569</td>\n",
       "      <td>-1.709480</td>\n",
       "      <td>-1.067511</td>\n",
       "      <td>-0.802579</td>\n",
       "      <td>0.077527</td>\n",
       "      <td>0.416478</td>\n",
       "      <td>0.912846</td>\n",
       "      <td>0.861306</td>\n",
       "    </tr>\n",
       "    <tr>\n",
       "      <th>4962</th>\n",
       "      <td>2.286998</td>\n",
       "      <td>4.385142</td>\n",
       "      <td>2.830232</td>\n",
       "      <td>5.293880</td>\n",
       "      <td>3.035814</td>\n",
       "      <td>-1.202764</td>\n",
       "      <td>-0.902011</td>\n",
       "      <td>-0.931039</td>\n",
       "      <td>0.924216</td>\n",
       "      <td>0.130186</td>\n",
       "      <td>0.703887</td>\n",
       "      <td>0.063811</td>\n",
       "    </tr>\n",
       "    <tr>\n",
       "      <th>3886</th>\n",
       "      <td>5.019920</td>\n",
       "      <td>2.209962</td>\n",
       "      <td>6.266080</td>\n",
       "      <td>0.578901</td>\n",
       "      <td>4.322584</td>\n",
       "      <td>-1.960207</td>\n",
       "      <td>-1.074561</td>\n",
       "      <td>-1.287815</td>\n",
       "      <td>0.546910</td>\n",
       "      <td>0.065992</td>\n",
       "      <td>0.427349</td>\n",
       "      <td>0.814648</td>\n",
       "    </tr>\n",
       "    <tr>\n",
       "      <th>5437</th>\n",
       "      <td>7.646145</td>\n",
       "      <td>9.187896</td>\n",
       "      <td>5.484219</td>\n",
       "      <td>9.934313</td>\n",
       "      <td>3.634226</td>\n",
       "      <td>-1.254541</td>\n",
       "      <td>-1.335366</td>\n",
       "      <td>-1.044319</td>\n",
       "      <td>0.561528</td>\n",
       "      <td>0.121611</td>\n",
       "      <td>0.787318</td>\n",
       "      <td>0.300314</td>\n",
       "    </tr>\n",
       "    <tr>\n",
       "      <th>...</th>\n",
       "      <td>...</td>\n",
       "      <td>...</td>\n",
       "      <td>...</td>\n",
       "      <td>...</td>\n",
       "      <td>...</td>\n",
       "      <td>...</td>\n",
       "      <td>...</td>\n",
       "      <td>...</td>\n",
       "      <td>...</td>\n",
       "      <td>...</td>\n",
       "      <td>...</td>\n",
       "      <td>...</td>\n",
       "    </tr>\n",
       "    <tr>\n",
       "      <th>3919</th>\n",
       "      <td>8.320531</td>\n",
       "      <td>3.394352</td>\n",
       "      <td>1.468729</td>\n",
       "      <td>8.766874</td>\n",
       "      <td>3.940123</td>\n",
       "      <td>-1.599081</td>\n",
       "      <td>-0.931023</td>\n",
       "      <td>-1.410020</td>\n",
       "      <td>0.657445</td>\n",
       "      <td>0.493384</td>\n",
       "      <td>0.178907</td>\n",
       "      <td>0.173240</td>\n",
       "    </tr>\n",
       "    <tr>\n",
       "      <th>162</th>\n",
       "      <td>2.290102</td>\n",
       "      <td>3.028512</td>\n",
       "      <td>8.071234</td>\n",
       "      <td>6.169944</td>\n",
       "      <td>3.624592</td>\n",
       "      <td>-1.104003</td>\n",
       "      <td>-0.820951</td>\n",
       "      <td>-1.699638</td>\n",
       "      <td>0.785595</td>\n",
       "      <td>0.770194</td>\n",
       "      <td>0.234290</td>\n",
       "      <td>0.225070</td>\n",
       "    </tr>\n",
       "    <tr>\n",
       "      <th>7903</th>\n",
       "      <td>7.848945</td>\n",
       "      <td>0.684889</td>\n",
       "      <td>0.728223</td>\n",
       "      <td>6.702948</td>\n",
       "      <td>2.599685</td>\n",
       "      <td>-0.563497</td>\n",
       "      <td>-1.210069</td>\n",
       "      <td>-0.826119</td>\n",
       "      <td>0.185122</td>\n",
       "      <td>0.559799</td>\n",
       "      <td>0.682418</td>\n",
       "      <td>0.886902</td>\n",
       "    </tr>\n",
       "    <tr>\n",
       "      <th>2242</th>\n",
       "      <td>2.173967</td>\n",
       "      <td>5.776797</td>\n",
       "      <td>4.597638</td>\n",
       "      <td>6.399330</td>\n",
       "      <td>2.869349</td>\n",
       "      <td>-0.931891</td>\n",
       "      <td>-1.237955</td>\n",
       "      <td>-0.699503</td>\n",
       "      <td>0.942680</td>\n",
       "      <td>0.743103</td>\n",
       "      <td>0.152161</td>\n",
       "      <td>0.305183</td>\n",
       "    </tr>\n",
       "    <tr>\n",
       "      <th>2745</th>\n",
       "      <td>1.467618</td>\n",
       "      <td>9.389085</td>\n",
       "      <td>6.019740</td>\n",
       "      <td>9.376247</td>\n",
       "      <td>4.242404</td>\n",
       "      <td>-1.894794</td>\n",
       "      <td>-1.589085</td>\n",
       "      <td>-0.758525</td>\n",
       "      <td>0.659519</td>\n",
       "      <td>0.273217</td>\n",
       "      <td>0.526145</td>\n",
       "      <td>0.851163</td>\n",
       "    </tr>\n",
       "  </tbody>\n",
       "</table>\n",
       "<p>2000 rows × 12 columns</p>\n",
       "</div>"
      ],
      "text/plain": [
       "          tau1      tau2      tau3      tau4        p1        p2        p3  \\\n",
       "9953  6.877876  4.113820  9.356768  8.299753  4.056779 -1.897470 -1.590581   \n",
       "3850  5.802841  6.271371  4.731540  3.819867  3.579569 -1.709480 -1.067511   \n",
       "4962  2.286998  4.385142  2.830232  5.293880  3.035814 -1.202764 -0.902011   \n",
       "3886  5.019920  2.209962  6.266080  0.578901  4.322584 -1.960207 -1.074561   \n",
       "5437  7.646145  9.187896  5.484219  9.934313  3.634226 -1.254541 -1.335366   \n",
       "...        ...       ...       ...       ...       ...       ...       ...   \n",
       "3919  8.320531  3.394352  1.468729  8.766874  3.940123 -1.599081 -0.931023   \n",
       "162   2.290102  3.028512  8.071234  6.169944  3.624592 -1.104003 -0.820951   \n",
       "7903  7.848945  0.684889  0.728223  6.702948  2.599685 -0.563497 -1.210069   \n",
       "2242  2.173967  5.776797  4.597638  6.399330  2.869349 -0.931891 -1.237955   \n",
       "2745  1.467618  9.389085  6.019740  9.376247  4.242404 -1.894794 -1.589085   \n",
       "\n",
       "            p4        g1        g2        g3        g4  \n",
       "9953 -0.568728  0.276567  0.845536  0.112440  0.822562  \n",
       "3850 -0.802579  0.077527  0.416478  0.912846  0.861306  \n",
       "4962 -0.931039  0.924216  0.130186  0.703887  0.063811  \n",
       "3886 -1.287815  0.546910  0.065992  0.427349  0.814648  \n",
       "5437 -1.044319  0.561528  0.121611  0.787318  0.300314  \n",
       "...        ...       ...       ...       ...       ...  \n",
       "3919 -1.410020  0.657445  0.493384  0.178907  0.173240  \n",
       "162  -1.699638  0.785595  0.770194  0.234290  0.225070  \n",
       "7903 -0.826119  0.185122  0.559799  0.682418  0.886902  \n",
       "2242 -0.699503  0.942680  0.743103  0.152161  0.305183  \n",
       "2745 -0.758525  0.659519  0.273217  0.526145  0.851163  \n",
       "\n",
       "[2000 rows x 12 columns]"
      ]
     },
     "execution_count": 32,
     "metadata": {},
     "output_type": "execute_result"
    }
   ],
   "source": [
    "X_test"
   ]
  },
  {
   "cell_type": "code",
   "execution_count": 33,
   "id": "7c57c9d9",
   "metadata": {},
   "outputs": [],
   "source": [
    "stand_x_test = scaler.fit_transform(X_test)"
   ]
  },
  {
   "cell_type": "code",
   "execution_count": 34,
   "id": "f8921ddc",
   "metadata": {},
   "outputs": [
    {
     "data": {
      "text/html": [
       "<div>\n",
       "<style scoped>\n",
       "    .dataframe tbody tr th:only-of-type {\n",
       "        vertical-align: middle;\n",
       "    }\n",
       "\n",
       "    .dataframe tbody tr th {\n",
       "        vertical-align: top;\n",
       "    }\n",
       "\n",
       "    .dataframe thead th {\n",
       "        text-align: right;\n",
       "    }\n",
       "</style>\n",
       "<table border=\"1\" class=\"dataframe\">\n",
       "  <thead>\n",
       "    <tr style=\"text-align: right;\">\n",
       "      <th></th>\n",
       "      <th>tau1</th>\n",
       "      <th>tau2</th>\n",
       "      <th>tau3</th>\n",
       "      <th>tau4</th>\n",
       "      <th>p1</th>\n",
       "      <th>p2</th>\n",
       "      <th>p3</th>\n",
       "      <th>p4</th>\n",
       "      <th>g1</th>\n",
       "      <th>g2</th>\n",
       "      <th>g3</th>\n",
       "      <th>g4</th>\n",
       "    </tr>\n",
       "  </thead>\n",
       "  <tbody>\n",
       "    <tr>\n",
       "      <th>0</th>\n",
       "      <td>0.592163</td>\n",
       "      <td>-0.420565</td>\n",
       "      <td>1.472472</td>\n",
       "      <td>1.093036</td>\n",
       "      <td>0.426786</td>\n",
       "      <td>-1.504594</td>\n",
       "      <td>-0.792677</td>\n",
       "      <td>1.600201</td>\n",
       "      <td>-0.925703</td>\n",
       "      <td>1.175287</td>\n",
       "      <td>-1.492644</td>\n",
       "      <td>1.086291</td>\n",
       "    </tr>\n",
       "    <tr>\n",
       "      <th>1</th>\n",
       "      <td>0.199183</td>\n",
       "      <td>0.364543</td>\n",
       "      <td>-0.190076</td>\n",
       "      <td>-0.518473</td>\n",
       "      <td>-0.229402</td>\n",
       "      <td>-1.071766</td>\n",
       "      <td>0.427103</td>\n",
       "      <td>1.052337</td>\n",
       "      <td>-1.655910</td>\n",
       "      <td>-0.395949</td>\n",
       "      <td>1.412703</td>\n",
       "      <td>1.227535</td>\n",
       "    </tr>\n",
       "    <tr>\n",
       "      <th>2</th>\n",
       "      <td>-1.086035</td>\n",
       "      <td>-0.321834</td>\n",
       "      <td>-0.873505</td>\n",
       "      <td>0.011761</td>\n",
       "      <td>-0.977094</td>\n",
       "      <td>0.094896</td>\n",
       "      <td>0.813041</td>\n",
       "      <td>0.751381</td>\n",
       "      <td>1.450284</td>\n",
       "      <td>-1.444370</td>\n",
       "      <td>0.654216</td>\n",
       "      <td>-1.679799</td>\n",
       "    </tr>\n",
       "    <tr>\n",
       "      <th>3</th>\n",
       "      <td>-0.087014</td>\n",
       "      <td>-1.113357</td>\n",
       "      <td>0.361518</td>\n",
       "      <td>-1.684316</td>\n",
       "      <td>0.792280</td>\n",
       "      <td>-1.649041</td>\n",
       "      <td>0.410662</td>\n",
       "      <td>-0.084473</td>\n",
       "      <td>0.066085</td>\n",
       "      <td>-1.679450</td>\n",
       "      <td>-0.349573</td>\n",
       "      <td>1.057439</td>\n",
       "    </tr>\n",
       "    <tr>\n",
       "      <th>4</th>\n",
       "      <td>0.873004</td>\n",
       "      <td>1.425833</td>\n",
       "      <td>0.080476</td>\n",
       "      <td>1.681022</td>\n",
       "      <td>-0.154247</td>\n",
       "      <td>-0.024315</td>\n",
       "      <td>-0.197525</td>\n",
       "      <td>0.485988</td>\n",
       "      <td>0.119716</td>\n",
       "      <td>-1.475773</td>\n",
       "      <td>0.957057</td>\n",
       "      <td>-0.817608</td>\n",
       "    </tr>\n",
       "    <tr>\n",
       "      <th>...</th>\n",
       "      <td>...</td>\n",
       "      <td>...</td>\n",
       "      <td>...</td>\n",
       "      <td>...</td>\n",
       "      <td>...</td>\n",
       "      <td>...</td>\n",
       "      <td>...</td>\n",
       "      <td>...</td>\n",
       "      <td>...</td>\n",
       "      <td>...</td>\n",
       "      <td>...</td>\n",
       "      <td>...</td>\n",
       "    </tr>\n",
       "    <tr>\n",
       "      <th>1995</th>\n",
       "      <td>1.119526</td>\n",
       "      <td>-0.682371</td>\n",
       "      <td>-1.362900</td>\n",
       "      <td>1.261070</td>\n",
       "      <td>0.266377</td>\n",
       "      <td>-0.817583</td>\n",
       "      <td>0.745388</td>\n",
       "      <td>-0.370774</td>\n",
       "      <td>0.471600</td>\n",
       "      <td>-0.114316</td>\n",
       "      <td>-1.251379</td>\n",
       "      <td>-1.280864</td>\n",
       "    </tr>\n",
       "    <tr>\n",
       "      <th>1996</th>\n",
       "      <td>-1.084900</td>\n",
       "      <td>-0.815496</td>\n",
       "      <td>1.010385</td>\n",
       "      <td>0.326900</td>\n",
       "      <td>-0.167494</td>\n",
       "      <td>0.322284</td>\n",
       "      <td>1.002069</td>\n",
       "      <td>-1.049289</td>\n",
       "      <td>0.941736</td>\n",
       "      <td>0.899379</td>\n",
       "      <td>-1.050349</td>\n",
       "      <td>-1.091915</td>\n",
       "    </tr>\n",
       "    <tr>\n",
       "      <th>1997</th>\n",
       "      <td>0.947138</td>\n",
       "      <td>-1.668313</td>\n",
       "      <td>-1.629077</td>\n",
       "      <td>0.518632</td>\n",
       "      <td>-1.576793</td>\n",
       "      <td>1.566742</td>\n",
       "      <td>0.094662</td>\n",
       "      <td>0.997188</td>\n",
       "      <td>-1.261183</td>\n",
       "      <td>0.128899</td>\n",
       "      <td>0.576286</td>\n",
       "      <td>1.320848</td>\n",
       "    </tr>\n",
       "    <tr>\n",
       "      <th>1998</th>\n",
       "      <td>-1.127354</td>\n",
       "      <td>0.184573</td>\n",
       "      <td>-0.238207</td>\n",
       "      <td>0.409415</td>\n",
       "      <td>-1.205991</td>\n",
       "      <td>0.718553</td>\n",
       "      <td>0.029632</td>\n",
       "      <td>1.293823</td>\n",
       "      <td>1.518021</td>\n",
       "      <td>0.800172</td>\n",
       "      <td>-1.348463</td>\n",
       "      <td>-0.799858</td>\n",
       "    </tr>\n",
       "    <tr>\n",
       "      <th>1999</th>\n",
       "      <td>-1.385560</td>\n",
       "      <td>1.499043</td>\n",
       "      <td>0.272971</td>\n",
       "      <td>1.480274</td>\n",
       "      <td>0.682028</td>\n",
       "      <td>-1.498433</td>\n",
       "      <td>-0.789188</td>\n",
       "      <td>1.155547</td>\n",
       "      <td>0.479208</td>\n",
       "      <td>-0.920581</td>\n",
       "      <td>0.009039</td>\n",
       "      <td>1.190559</td>\n",
       "    </tr>\n",
       "  </tbody>\n",
       "</table>\n",
       "<p>2000 rows × 12 columns</p>\n",
       "</div>"
      ],
      "text/plain": [
       "          tau1      tau2      tau3      tau4        p1        p2        p3  \\\n",
       "0     0.592163 -0.420565  1.472472  1.093036  0.426786 -1.504594 -0.792677   \n",
       "1     0.199183  0.364543 -0.190076 -0.518473 -0.229402 -1.071766  0.427103   \n",
       "2    -1.086035 -0.321834 -0.873505  0.011761 -0.977094  0.094896  0.813041   \n",
       "3    -0.087014 -1.113357  0.361518 -1.684316  0.792280 -1.649041  0.410662   \n",
       "4     0.873004  1.425833  0.080476  1.681022 -0.154247 -0.024315 -0.197525   \n",
       "...        ...       ...       ...       ...       ...       ...       ...   \n",
       "1995  1.119526 -0.682371 -1.362900  1.261070  0.266377 -0.817583  0.745388   \n",
       "1996 -1.084900 -0.815496  1.010385  0.326900 -0.167494  0.322284  1.002069   \n",
       "1997  0.947138 -1.668313 -1.629077  0.518632 -1.576793  1.566742  0.094662   \n",
       "1998 -1.127354  0.184573 -0.238207  0.409415 -1.205991  0.718553  0.029632   \n",
       "1999 -1.385560  1.499043  0.272971  1.480274  0.682028 -1.498433 -0.789188   \n",
       "\n",
       "            p4        g1        g2        g3        g4  \n",
       "0     1.600201 -0.925703  1.175287 -1.492644  1.086291  \n",
       "1     1.052337 -1.655910 -0.395949  1.412703  1.227535  \n",
       "2     0.751381  1.450284 -1.444370  0.654216 -1.679799  \n",
       "3    -0.084473  0.066085 -1.679450 -0.349573  1.057439  \n",
       "4     0.485988  0.119716 -1.475773  0.957057 -0.817608  \n",
       "...        ...       ...       ...       ...       ...  \n",
       "1995 -0.370774  0.471600 -0.114316 -1.251379 -1.280864  \n",
       "1996 -1.049289  0.941736  0.899379 -1.050349 -1.091915  \n",
       "1997  0.997188 -1.261183  0.128899  0.576286  1.320848  \n",
       "1998  1.293823  1.518021  0.800172 -1.348463 -0.799858  \n",
       "1999  1.155547  0.479208 -0.920581  0.009039  1.190559  \n",
       "\n",
       "[2000 rows x 12 columns]"
      ]
     },
     "execution_count": 34,
     "metadata": {},
     "output_type": "execute_result"
    }
   ],
   "source": [
    "# making a dataframe for the standardised data\n",
    "\n",
    "X_test_df = pd.DataFrame(stand_x_test,\n",
    "                          columns=X_test.columns)\n",
    "\n",
    "X_test_df"
   ]
  },
  {
   "cell_type": "markdown",
   "id": "7cd010ba",
   "metadata": {},
   "source": [
    "# Step 5: Training, Testing, and Evaluating "
   ]
  },
  {
   "cell_type": "markdown",
   "id": "3089fcab",
   "metadata": {},
   "source": [
    "### Training \n",
    "\n",
    "Our focus would be on the following model:\n",
    "   - Random Forest Classifier \n",
    "   - Extra Trees Classifier\n",
    "   - xgboost \n",
    "   - lightgbm"
   ]
  },
  {
   "cell_type": "markdown",
   "id": "3b506345",
   "metadata": {},
   "source": [
    "## Here, we would answer question 4 "
   ]
  },
  {
   "cell_type": "markdown",
   "id": "750bede8",
   "metadata": {},
   "source": [
    "## Question 4\n",
    "\n",
    "    \n",
    "   ***What is the accuracy on the test set using the random forest classifier? In 4 decimal places.***"
   ]
  },
  {
   "cell_type": "markdown",
   "id": "52db393f",
   "metadata": {},
   "source": [
    "### Random forest Classifier \n",
    "\n",
    "We would do the following:\n",
    "   - Training the model\n",
    "   - Testing the model\n",
    "   - And Evaluate the model "
   ]
  },
  {
   "cell_type": "markdown",
   "id": "e12e1d0c",
   "metadata": {},
   "source": [
    "***Training the model***"
   ]
  },
  {
   "cell_type": "code",
   "execution_count": 35,
   "id": "4642f6b5",
   "metadata": {},
   "outputs": [],
   "source": [
    "# importing random forest classifier \n",
    "\n",
    "from sklearn.ensemble import RandomForestClassifier"
   ]
  },
  {
   "cell_type": "code",
   "execution_count": 36,
   "id": "b1f3d67b",
   "metadata": {},
   "outputs": [],
   "source": [
    "# instantiating the model \n",
    "\n",
    "clf = RandomForestClassifier(random_state=1)"
   ]
  },
  {
   "cell_type": "code",
   "execution_count": 37,
   "id": "51783eb9",
   "metadata": {},
   "outputs": [
    {
     "data": {
      "text/plain": [
       "RandomForestClassifier(random_state=1)"
      ]
     },
     "execution_count": 37,
     "metadata": {},
     "output_type": "execute_result"
    }
   ],
   "source": [
    "# fitting the model with training dataset \n",
    "\n",
    "clf.fit(X_train_df, y_balanced)"
   ]
  },
  {
   "cell_type": "markdown",
   "id": "ab2f2ddd",
   "metadata": {},
   "source": [
    "***Testing the model***"
   ]
  },
  {
   "cell_type": "code",
   "execution_count": 38,
   "id": "faf3cf0d",
   "metadata": {},
   "outputs": [],
   "source": [
    "# making predictions with trained model \n",
    "\n",
    "Ran_y_preds = clf.predict(X_test_df)"
   ]
  },
  {
   "cell_type": "code",
   "execution_count": 39,
   "id": "5d1daa59",
   "metadata": {},
   "outputs": [
    {
     "data": {
      "text/plain": [
       "array([1, 1, 0, ..., 0, 0, 1])"
      ]
     },
     "execution_count": 39,
     "metadata": {},
     "output_type": "execute_result"
    }
   ],
   "source": [
    "Ran_y_preds"
   ]
  },
  {
   "cell_type": "code",
   "execution_count": 40,
   "id": "8158efda",
   "metadata": {},
   "outputs": [
    {
     "data": {
      "text/plain": [
       "2000"
      ]
     },
     "execution_count": 40,
     "metadata": {},
     "output_type": "execute_result"
    }
   ],
   "source": [
    "len(Ran_y_preds)"
   ]
  },
  {
   "cell_type": "markdown",
   "id": "2b97ae46",
   "metadata": {},
   "source": [
    "***Evaluating the model***\n",
    "\n",
    "We would be evaluating on the following metrics:\n",
    "   - classification_report \n",
    "   - confusion_matrix\n",
    "   - accuracy_score"
   ]
  },
  {
   "cell_type": "code",
   "execution_count": 41,
   "id": "9a43138a",
   "metadata": {},
   "outputs": [],
   "source": [
    "# importing metrics from sklearn \n",
    "\n",
    "from sklearn.metrics import classification_report, accuracy_score, confusion_matrix"
   ]
  },
  {
   "cell_type": "code",
   "execution_count": 42,
   "id": "2d0b8eb6",
   "metadata": {},
   "outputs": [
    {
     "name": "stdout",
     "output_type": "stream",
     "text": [
      "              precision    recall  f1-score   support\n",
      "\n",
      "           0       0.79      0.96      0.87       712\n",
      "           1       0.98      0.86      0.92      1288\n",
      "\n",
      "    accuracy                           0.90      2000\n",
      "   macro avg       0.88      0.91      0.89      2000\n",
      "weighted avg       0.91      0.90      0.90      2000\n",
      "\n"
     ]
    }
   ],
   "source": [
    "# printing the report on the model through classification_report \n",
    "\n",
    "\n",
    "print(classification_report(y_test, Ran_y_preds))"
   ]
  },
  {
   "cell_type": "code",
   "execution_count": 43,
   "id": "58a81070",
   "metadata": {},
   "outputs": [
    {
     "data": {
      "text/plain": [
       "array([[ 685,   27],\n",
       "       [ 179, 1109]])"
      ]
     },
     "execution_count": 43,
     "metadata": {},
     "output_type": "execute_result"
    }
   ],
   "source": [
    "# for confusion matrix\n",
    "\n",
    "cm = confusion_matrix(y_test, Ran_y_preds)\n",
    "cm"
   ]
  },
  {
   "cell_type": "markdown",
   "id": "a0b236aa",
   "metadata": {},
   "source": [
    "`Showing the above result through the heat map`"
   ]
  },
  {
   "cell_type": "code",
   "execution_count": 44,
   "id": "22906c9a",
   "metadata": {},
   "outputs": [
    {
     "data": {
      "text/plain": [
       "Text(0.5, 15.0, 'Ground Truth')"
      ]
     },
     "execution_count": 44,
     "metadata": {},
     "output_type": "execute_result"
    },
    {
     "data": {
      "image/png": "[encoded data removed]",
      "text/plain": [
       "<Figure size 432x288 with 1 Axes>"
      ]
     },
     "metadata": {
      "needs_background": "light"
     },
     "output_type": "display_data"
    }
   ],
   "source": [
    "sns.heatmap(cm, annot=True, fmt=\"d\", cbar = False)\n",
    "plt.ylabel(\"Predicted Values\")\n",
    "plt.xlabel(\"Ground Truth\")"
   ]
  },
  {
   "cell_type": "code",
   "execution_count": 45,
   "id": "4c3df1ec",
   "metadata": {},
   "outputs": [
    {
     "data": {
      "text/plain": [
       "0.897"
      ]
     },
     "execution_count": 45,
     "metadata": {},
     "output_type": "execute_result"
    }
   ],
   "source": [
    "# checking the accuracy score\n",
    "\n",
    "score = accuracy_score(y_test, Ran_y_preds)\n",
    "score"
   ]
  },
  {
   "cell_type": "markdown",
   "id": "87ee7a10",
   "metadata": {},
   "source": [
    "## Answer\n",
    "\n",
    "**THE ACCURACY SCORE ON THE TEST SET IS => 0.897**"
   ]
  },
  {
   "cell_type": "markdown",
   "id": "6b567d9b",
   "metadata": {},
   "source": [
    ".\n",
    ".\n",
    ".\n",
    ".\n",
    ".\n"
   ]
  },
  {
   "cell_type": "markdown",
   "id": "458a9493",
   "metadata": {},
   "source": [
    "## Here, we would answer question 7"
   ]
  },
  {
   "cell_type": "markdown",
   "id": "2fa18b8d",
   "metadata": {},
   "source": [
    "## Question 7\n",
    "\n",
    "**What is the accuracy on the test set using the LGBM classifier? In 4 decimal places.**"
   ]
  },
  {
   "cell_type": "markdown",
   "id": "af21c381",
   "metadata": {},
   "source": [
    "### LightGBM"
   ]
  },
  {
   "cell_type": "markdown",
   "id": "71641a2b",
   "metadata": {},
   "source": [
    "We would do the following:\n",
    "   - Training the model\n",
    "   - Testing the model\n",
    "   - And Evaluate the model"
   ]
  },
  {
   "cell_type": "markdown",
   "id": "5312ccdd",
   "metadata": {},
   "source": [
    "***Training the model***"
   ]
  },
  {
   "cell_type": "code",
   "execution_count": 46,
   "id": "b6252f31",
   "metadata": {},
   "outputs": [],
   "source": [
    "# Importing the model\n",
    "\n",
    "from lightgbm import LGBMClassifier"
   ]
  },
  {
   "cell_type": "code",
   "execution_count": 47,
   "id": "7d5656ad",
   "metadata": {},
   "outputs": [
    {
     "data": {
      "text/plain": [
       "LGBMClassifier(random_state=1)"
      ]
     },
     "execution_count": 47,
     "metadata": {},
     "output_type": "execute_result"
    }
   ],
   "source": [
    "# Instantiating the model\n",
    "\n",
    "light_model = LGBMClassifier(random_state=1)\n",
    "\n",
    "# fitting the model\n",
    "\n",
    "light_model.fit(X_train_df, y_balanced)"
   ]
  },
  {
   "cell_type": "markdown",
   "id": "1d2d5df1",
   "metadata": {},
   "source": [
    "***Testing the model***"
   ]
  },
  {
   "cell_type": "code",
   "execution_count": 48,
   "id": "b7d45bec",
   "metadata": {},
   "outputs": [],
   "source": [
    "# checking the score of the fitted with trianed model \n",
    "\n",
    "from sklearn.model_selection import cross_val_score\n",
    "score = cross_val_score(light_model, \n",
    "                        X_train_df,\n",
    "                        y_balanced,\n",
    "                        scoring='accuracy',\n",
    "                       cv=5,\n",
    "                       n_jobs=-1)"
   ]
  },
  {
   "cell_type": "code",
   "execution_count": 49,
   "id": "73fdee07",
   "metadata": {},
   "outputs": [
    {
     "data": {
      "text/plain": [
       "array([0.940108  , 0.9509082 , 0.94894453, 0.97152676, 0.96807466])"
      ]
     },
     "execution_count": 49,
     "metadata": {},
     "output_type": "execute_result"
    }
   ],
   "source": [
    "score"
   ]
  },
  {
   "cell_type": "code",
   "execution_count": 50,
   "id": "4254e072",
   "metadata": {},
   "outputs": [
    {
     "data": {
      "text/plain": [
       "0.96"
      ]
     },
     "execution_count": 50,
     "metadata": {},
     "output_type": "execute_result"
    }
   ],
   "source": [
    "round(score.mean(), 2)"
   ]
  },
  {
   "cell_type": "code",
   "execution_count": 51,
   "id": "e95dc2d9",
   "metadata": {},
   "outputs": [],
   "source": [
    "# making predictions with model \n",
    "\n",
    "light_y_preds = light_model.predict(X_test_df)"
   ]
  },
  {
   "cell_type": "code",
   "execution_count": 52,
   "id": "27eaa0ee",
   "metadata": {},
   "outputs": [
    {
     "data": {
      "text/plain": [
       "array([1, 1, 0, ..., 0, 0, 1])"
      ]
     },
     "execution_count": 52,
     "metadata": {},
     "output_type": "execute_result"
    }
   ],
   "source": [
    "light_y_preds"
   ]
  },
  {
   "cell_type": "markdown",
   "id": "fe1a110d",
   "metadata": {},
   "source": [
    "***Evaluting the model***\n",
    "\n",
    "We would be evaluating on the following metrics:\n",
    "\n",
    "- confusion_matrix\n",
    "- accuracy_score\n",
    "- classification_report"
   ]
  },
  {
   "cell_type": "code",
   "execution_count": 53,
   "id": "8fcf6751",
   "metadata": {},
   "outputs": [],
   "source": [
    "# confusion matrix\n",
    "\n",
    "cm = confusion_matrix(y_test, light_y_preds)\n"
   ]
  },
  {
   "cell_type": "code",
   "execution_count": 54,
   "id": "a7528a7c",
   "metadata": {},
   "outputs": [
    {
     "data": {
      "text/plain": [
       "Text(0.5, 15.0, 'Ground Truth')"
      ]
     },
     "execution_count": 54,
     "metadata": {},
     "output_type": "execute_result"
    },
    {
     "data": {
      "image/png": "[encoded data removed]",
      "text/plain": [
       "<Figure size 432x288 with 1 Axes>"
      ]
     },
     "metadata": {
      "needs_background": "light"
     },
     "output_type": "display_data"
    }
   ],
   "source": [
    "sns.heatmap(cm, annot=True, fmt=\"d\", cbar = False)\n",
    "plt.ylabel(\"Predicted Values\")\n",
    "plt.xlabel(\"Ground Truth\")"
   ]
  },
  {
   "cell_type": "code",
   "execution_count": 55,
   "id": "b86613ad",
   "metadata": {},
   "outputs": [
    {
     "data": {
      "text/plain": [
       "0.9065"
      ]
     },
     "execution_count": 55,
     "metadata": {},
     "output_type": "execute_result"
    }
   ],
   "source": [
    "# accuracy score\n",
    "\n",
    "score = accuracy_score(y_test, light_y_preds)\n",
    "score"
   ]
  },
  {
   "cell_type": "markdown",
   "id": "1d12463e",
   "metadata": {},
   "source": [
    "## Answer\n",
    "\n",
    "\n",
    "**THE ACCURACY SCORE ON THE TEST SET IS => 0.9065**"
   ]
  },
  {
   "cell_type": "markdown",
   "id": "79f9ed1e",
   "metadata": {},
   "source": [
    ".\n",
    ".\n",
    ".\n",
    ".\n",
    ".\n",
    ".\n"
   ]
  },
  {
   "cell_type": "markdown",
   "id": "b6148f24",
   "metadata": {},
   "source": [
    "## Here, we would answer question 11"
   ]
  },
  {
   "cell_type": "markdown",
   "id": "0365aab6",
   "metadata": {},
   "source": [
    "## Question 11\n",
    "\n",
    "**What is the accuracy on the test set using the XGboost classifier? In 4 decimal places.**"
   ]
  },
  {
   "cell_type": "markdown",
   "id": "d6fc7d0e",
   "metadata": {},
   "source": [
    "### XGBOOST\n",
    "\n",
    "\n",
    "We would do the following:\n",
    "   - Training the model\n",
    "   - Testing the model\n",
    "   - And Evaluate the model"
   ]
  },
  {
   "cell_type": "code",
   "execution_count": 56,
   "id": "ef178a2e",
   "metadata": {},
   "outputs": [],
   "source": [
    "# importing xgboost\n",
    "\n",
    "from xgboost import XGBClassifier"
   ]
  },
  {
   "cell_type": "code",
   "execution_count": 57,
   "id": "ca2fc9b5",
   "metadata": {},
   "outputs": [
    {
     "data": {
      "text/plain": [
       "XGBClassifier(base_score=0.5, booster='gbtree', colsample_bylevel=1,\n",
       "              colsample_bynode=1, colsample_bytree=1, gamma=0, gpu_id=-1,\n",
       "              importance_type='gain', interaction_constraints='',\n",
       "              learning_rate=0.300000012, max_delta_step=0, max_depth=6,\n",
       "              min_child_weight=1, missing=nan, monotone_constraints='()',\n",
       "              n_estimators=100, n_jobs=0, num_parallel_tree=1, random_state=1,\n",
       "              reg_alpha=0, reg_lambda=1, scale_pos_weight=1, subsample=1,\n",
       "              tree_method='exact', validate_parameters=1, verbosity=None)"
      ]
     },
     "execution_count": 57,
     "metadata": {},
     "output_type": "execute_result"
    }
   ],
   "source": [
    "# instantiating the model\n",
    "\n",
    "xg_model = XGBClassifier(random_state=1)\n",
    "\n",
    "# fitting the model\n",
    "\n",
    "xg_model.fit(X_train_df, y_balanced)"
   ]
  },
  {
   "cell_type": "markdown",
   "id": "4f1bc508",
   "metadata": {},
   "source": [
    "***Testing the model***"
   ]
  },
  {
   "cell_type": "code",
   "execution_count": 58,
   "id": "90256219",
   "metadata": {},
   "outputs": [],
   "source": [
    "# checking the score of the fitted with trianed model \n",
    "\n",
    "from sklearn.model_selection import cross_val_score\n",
    "score = cross_val_score(xg_model, \n",
    "                        X_train_df,\n",
    "                        y_balanced,\n",
    "                        scoring='accuracy',\n",
    "                       cv=5,\n",
    "                       n_jobs=-1)"
   ]
  },
  {
   "cell_type": "code",
   "execution_count": 59,
   "id": "ad16be9b",
   "metadata": {},
   "outputs": [
    {
     "data": {
      "text/plain": [
       "array([0.94354443, 0.95532646, 0.95139912, 0.97496318, 0.97298625])"
      ]
     },
     "execution_count": 59,
     "metadata": {},
     "output_type": "execute_result"
    }
   ],
   "source": [
    "score"
   ]
  },
  {
   "cell_type": "code",
   "execution_count": 60,
   "id": "41f9c26c",
   "metadata": {},
   "outputs": [
    {
     "data": {
      "text/plain": [
       "0.96"
      ]
     },
     "execution_count": 60,
     "metadata": {},
     "output_type": "execute_result"
    }
   ],
   "source": [
    "round(score.mean(), 2)"
   ]
  },
  {
   "cell_type": "code",
   "execution_count": 61,
   "id": "b8297b0a",
   "metadata": {},
   "outputs": [],
   "source": [
    "# making predictions with model \n",
    "\n",
    "xg_y_preds = xg_model.predict(X_test_df)"
   ]
  },
  {
   "cell_type": "code",
   "execution_count": 62,
   "id": "e543c998",
   "metadata": {},
   "outputs": [
    {
     "data": {
      "text/plain": [
       "array([1, 1, 0, ..., 0, 0, 1])"
      ]
     },
     "execution_count": 62,
     "metadata": {},
     "output_type": "execute_result"
    }
   ],
   "source": [
    "xg_y_preds"
   ]
  },
  {
   "cell_type": "markdown",
   "id": "9e6c61d3",
   "metadata": {},
   "source": [
    "***Evaluting the model***\n",
    "\n",
    "We would be evaluating on the following metrics:\n",
    "\n",
    "- confusion_matrix\n",
    "- accuracy_score\n",
    "- classification_report"
   ]
  },
  {
   "cell_type": "code",
   "execution_count": 63,
   "id": "21012823",
   "metadata": {},
   "outputs": [],
   "source": [
    "# confusion matrix\n",
    "\n",
    "cm = confusion_matrix(y_test, xg_y_preds)\n"
   ]
  },
  {
   "cell_type": "code",
   "execution_count": 64,
   "id": "4a0a2766",
   "metadata": {},
   "outputs": [
    {
     "data": {
      "text/plain": [
       "Text(0.5, 15.0, 'Ground Truth')"
      ]
     },
     "execution_count": 64,
     "metadata": {},
     "output_type": "execute_result"
    },
    {
     "data": {
      "image/png": "[encoded data removed]",
      "text/plain": [
       "<Figure size 432x288 with 1 Axes>"
      ]
     },
     "metadata": {
      "needs_background": "light"
     },
     "output_type": "display_data"
    }
   ],
   "source": [
    "sns.heatmap(cm, annot=True, fmt=\"d\", cbar = False)\n",
    "plt.ylabel(\"Predicted Values\")\n",
    "plt.xlabel(\"Ground Truth\")"
   ]
  },
  {
   "cell_type": "code",
   "execution_count": 65,
   "id": "735009ed",
   "metadata": {},
   "outputs": [
    {
     "data": {
      "text/plain": [
       "0.9115"
      ]
     },
     "execution_count": 65,
     "metadata": {},
     "output_type": "execute_result"
    }
   ],
   "source": [
    "# accuracy score\n",
    "\n",
    "score = accuracy_score(y_test, xg_y_preds)\n",
    "score"
   ]
  },
  {
   "cell_type": "markdown",
   "id": "13e18933",
   "metadata": {},
   "source": [
    "## Answer\n",
    "\n",
    "\n",
    "**THE ACCURACY SCORE ON THE TEST SET IS => 0.9115**"
   ]
  },
  {
   "cell_type": "markdown",
   "id": "b46c9bf0",
   "metadata": {},
   "source": [
    "........."
   ]
  },
  {
   "cell_type": "markdown",
   "id": "de1256b9",
   "metadata": {},
   "source": [
    "## Here, we would answer question 13"
   ]
  },
  {
   "cell_type": "markdown",
   "id": "ecf49c82",
   "metadata": {},
   "source": [
    "## Question 13\n",
    "\n",
    "**Find the feature importance using the optimal ExtraTreesClassifier model. Which features are the most and least important respectively?**"
   ]
  },
  {
   "cell_type": "markdown",
   "id": "d2621715",
   "metadata": {},
   "source": [
    "### Extra Trees Classifier "
   ]
  },
  {
   "cell_type": "markdown",
   "id": "6144e896",
   "metadata": {},
   "source": [
    "We would do the following:\n",
    "\n",
    "- Training the model\n",
    "- Testing the model\n",
    "- And Evaluate the model"
   ]
  },
  {
   "cell_type": "markdown",
   "id": "2591a192",
   "metadata": {},
   "source": [
    "***Training the model***"
   ]
  },
  {
   "cell_type": "code",
   "execution_count": 66,
   "id": "45b63bf9",
   "metadata": {},
   "outputs": [],
   "source": [
    "# import extra tree classifier\n",
    "\n",
    "from sklearn.ensemble import ExtraTreesClassifier"
   ]
  },
  {
   "cell_type": "code",
   "execution_count": 67,
   "id": "d58a5ba8",
   "metadata": {},
   "outputs": [],
   "source": [
    "# instantiating the model\n",
    "\n",
    "etc = ExtraTreesClassifier(random_state=1)"
   ]
  },
  {
   "cell_type": "code",
   "execution_count": 68,
   "id": "93c36913",
   "metadata": {},
   "outputs": [
    {
     "data": {
      "text/plain": [
       "ExtraTreesClassifier(random_state=1)"
      ]
     },
     "execution_count": 68,
     "metadata": {},
     "output_type": "execute_result"
    }
   ],
   "source": [
    "# fitting the model\n",
    "\n",
    "etc.fit(X_train_df, y_balanced)"
   ]
  },
  {
   "cell_type": "markdown",
   "id": "c58ef876",
   "metadata": {},
   "source": [
    "***Testing the model***"
   ]
  },
  {
   "cell_type": "code",
   "execution_count": 69,
   "id": "0458ff20",
   "metadata": {},
   "outputs": [],
   "source": [
    "etc_y_preds = etc.predict(X_test_df)"
   ]
  },
  {
   "cell_type": "code",
   "execution_count": 70,
   "id": "03a86de7",
   "metadata": {},
   "outputs": [
    {
     "data": {
      "text/plain": [
       "array([1, 1, 0, ..., 0, 0, 1])"
      ]
     },
     "execution_count": 70,
     "metadata": {},
     "output_type": "execute_result"
    }
   ],
   "source": [
    "etc_y_preds"
   ]
  },
  {
   "cell_type": "markdown",
   "id": "bf117847",
   "metadata": {},
   "source": [
    "***Evaluating the model***"
   ]
  },
  {
   "cell_type": "markdown",
   "id": "c9dae829",
   "metadata": {},
   "source": [
    "We would be evaluating on the following metrics:\n",
    "\n",
    "- confusion_matrix\n",
    "- accuracy_score\n",
    "- classification_report"
   ]
  },
  {
   "cell_type": "code",
   "execution_count": 71,
   "id": "690cc16c",
   "metadata": {},
   "outputs": [],
   "source": [
    "# confusion matrix\n",
    "\n",
    "cm = confusion_matrix(y_test, etc_y_preds)"
   ]
  },
  {
   "cell_type": "code",
   "execution_count": 72,
   "id": "6614dbd6",
   "metadata": {},
   "outputs": [
    {
     "data": {
      "text/plain": [
       "Text(0.5, 15.0, 'Ground Truth')"
      ]
     },
     "execution_count": 72,
     "metadata": {},
     "output_type": "execute_result"
    },
    {
     "data": {
      "image/png": "[encoded data removed]",
      "text/plain": [
       "<Figure size 432x288 with 1 Axes>"
      ]
     },
     "metadata": {
      "needs_background": "light"
     },
     "output_type": "display_data"
    }
   ],
   "source": [
    "sns.heatmap(cm, annot=True, fmt=\"d\", cbar = False)\n",
    "plt.ylabel(\"Predicted Values\")\n",
    "plt.xlabel(\"Ground Truth\")"
   ]
  },
  {
   "cell_type": "code",
   "execution_count": 73,
   "id": "b0757b8b",
   "metadata": {},
   "outputs": [
    {
     "data": {
      "text/plain": [
       "0.896"
      ]
     },
     "execution_count": 73,
     "metadata": {},
     "output_type": "execute_result"
    }
   ],
   "source": [
    "# accuracy score\n",
    "\n",
    "score = accuracy_score(y_test, etc_y_preds)\n",
    "score"
   ]
  },
  {
   "cell_type": "markdown",
   "id": "7569d66f",
   "metadata": {},
   "source": [
    "**Feature importance based on mean decrease in impurity**"
   ]
  },
  {
   "cell_type": "code",
   "execution_count": 74,
   "id": "27f22a70",
   "metadata": {
    "scrolled": true
   },
   "outputs": [
    {
     "data": {
      "text/plain": [
       "array([0.11971508, 0.11765325, 0.11417414, 0.11849404, 0.03701265,\n",
       "       0.03779585, 0.0380866 , 0.03803685, 0.09157514, 0.09483179,\n",
       "       0.09979064, 0.09283399])"
      ]
     },
     "execution_count": 74,
     "metadata": {},
     "output_type": "execute_result"
    }
   ],
   "source": [
    "# Getting the feature importance of the model\n",
    "\n",
    "importances= etc.feature_importances_\n",
    "importances"
   ]
  },
  {
   "cell_type": "code",
   "execution_count": 75,
   "id": "63f66e5b",
   "metadata": {},
   "outputs": [
    {
     "data": {
      "text/plain": [
       "Index(['tau1', 'tau2', 'tau3', 'tau4', 'p1', 'p2', 'p3', 'p4', 'g1', 'g2',\n",
       "       'g3', 'g4'],\n",
       "      dtype='object')"
      ]
     },
     "execution_count": 75,
     "metadata": {},
     "output_type": "execute_result"
    }
   ],
   "source": [
    "feature_names = X_train_df.columns\n",
    "feature_names"
   ]
  },
  {
   "cell_type": "code",
   "execution_count": 76,
   "id": "836e9fea",
   "metadata": {},
   "outputs": [
    {
     "data": {
      "text/plain": [
       "array([0.01013275, 0.01036498, 0.00757602, 0.00855368, 0.00352996,\n",
       "       0.00339525, 0.00361567, 0.00379749, 0.00797251, 0.00680913,\n",
       "       0.0079559 , 0.00805084])"
      ]
     },
     "execution_count": 76,
     "metadata": {},
     "output_type": "execute_result"
    }
   ],
   "source": [
    "std = np.std([tree.feature_importances_ for tree in etc.estimators_], axis=0)\n",
    "std"
   ]
  },
  {
   "cell_type": "code",
   "execution_count": 77,
   "id": "564dc163",
   "metadata": {},
   "outputs": [
    {
     "data": {
      "text/plain": [
       "tau1    0.119715\n",
       "tau2    0.117653\n",
       "tau3    0.114174\n",
       "tau4    0.118494\n",
       "p1      0.037013\n",
       "p2      0.037796\n",
       "p3      0.038087\n",
       "p4      0.038037\n",
       "g1      0.091575\n",
       "g2      0.094832\n",
       "g3      0.099791\n",
       "g4      0.092834\n",
       "dtype: float64"
      ]
     },
     "execution_count": 77,
     "metadata": {},
     "output_type": "execute_result"
    }
   ],
   "source": [
    "etc_importances = pd.Series(importances, index=feature_names)\n",
    "etc_importances"
   ]
  },
  {
   "cell_type": "code",
   "execution_count": 78,
   "id": "de3601d4",
   "metadata": {},
   "outputs": [
    {
     "data": {
      "image/png": "[encoded data removed]",
      "text/plain": [
       "<Figure size 432x288 with 1 Axes>"
      ]
     },
     "metadata": {
      "needs_background": "light"
     },
     "output_type": "display_data"
    }
   ],
   "source": [
    "fig, ax = plt.subplots()\n",
    "etc_importances.plot.bar(yerr=std, ax=ax)\n",
    "ax.set_title(\"Feature importances using MDI\")\n",
    "ax.set_ylabel(\"Mean decrease in impurity\")\n",
    "fig.tight_layout()"
   ]
  },
  {
   "cell_type": "markdown",
   "id": "45f138d8",
   "metadata": {},
   "source": [
    "## Answer\n",
    "\n",
    "\n",
    "**THE FEATURES WITH THEIR IMPORTANCE ARE:**\n",
    "   - THE MOST IMPORTANT FEATURE = tau1\n",
    "   - THE LEAST IMPORTANT FEATURE = p1"
   ]
  },
  {
   "cell_type": "markdown",
   "id": "22cfd962",
   "metadata": {},
   "source": [
    "............."
   ]
  },
  {
   "cell_type": "markdown",
   "id": "1f887788",
   "metadata": {},
   "source": [
    "## Question 14\n",
    "\n",
    "**Using the ExtraTreesClassifier as your estimator with cv=5, n_iter=10, scoring = 'accuracy', n_jobs = -1, verbose = 1 and random_state = 1. What are the best hyperparameters from the randomized search CV?**"
   ]
  },
  {
   "cell_type": "code",
   "execution_count": 79,
   "id": "a6af4867",
   "metadata": {},
   "outputs": [],
   "source": [
    "# importing the Randomized Search Cv\n",
    "\n",
    "from sklearn.model_selection import RandomizedSearchCV"
   ]
  },
  {
   "cell_type": "code",
   "execution_count": 85,
   "id": "600f5753",
   "metadata": {},
   "outputs": [],
   "source": [
    "# creating a dictionary for hyperparameters we want to tune\n",
    "# and the values for which we want to tune\n",
    "# key = hyperparameter\n",
    "# values = tuning values \n",
    "\n",
    "grid = {\"n_estimators\": [100,300,500,1000],\n",
    "       \"max_features\": [\"None\",\"auto\", \"log2\"],\n",
    "       \"min_samples_split\": [2, 5, 7],\n",
    "       \"min_samples_leaf\": [4, 6, 8]}\n"
   ]
  },
  {
   "cell_type": "code",
   "execution_count": 86,
   "id": "9b800265",
   "metadata": {},
   "outputs": [],
   "source": [
    "# Setup RandomizedSearchCV\n",
    "\n",
    "rs_etc = RandomizedSearchCV(estimator=etc, \n",
    "                           param_distributions=grid,\n",
    "                           n_iter=10, # number of models to try\n",
    "                           cv = 5,\n",
    "                           verbose=1,\n",
    "                           scoring=\"accuracy\",\n",
    "                           n_jobs=-1,\n",
    "                           random_state=1)\n"
   ]
  },
  {
   "cell_type": "code",
   "execution_count": 87,
   "id": "8cc469ec",
   "metadata": {},
   "outputs": [
    {
     "name": "stdout",
     "output_type": "stream",
     "text": [
      "Fitting 5 folds for each of 10 candidates, totalling 50 fits\n"
     ]
    },
    {
     "data": {
      "text/plain": [
       "RandomizedSearchCV(cv=5, estimator=ExtraTreesClassifier(random_state=1),\n",
       "                   n_jobs=-1,\n",
       "                   param_distributions={'max_features': ['None', 'auto',\n",
       "                                                         'log2'],\n",
       "                                        'min_samples_leaf': [4, 6, 8],\n",
       "                                        'min_samples_split': [2, 5, 7],\n",
       "                                        'n_estimators': [100, 300, 500, 1000]},\n",
       "                   random_state=1, scoring='accuracy', verbose=1)"
      ]
     },
     "execution_count": 87,
     "metadata": {},
     "output_type": "execute_result"
    }
   ],
   "source": [
    "# fit the RandomizedSearchCV version of etc\n",
    "\n",
    "rs_etc.fit(X_train_df, y_balanced)\n",
    " "
   ]
  },
  {
   "cell_type": "code",
   "execution_count": 88,
   "id": "56c5a098",
   "metadata": {},
   "outputs": [
    {
     "data": {
      "text/plain": [
       "{'n_estimators': 1000,\n",
       " 'min_samples_split': 5,\n",
       " 'min_samples_leaf': 6,\n",
       " 'max_features': 'auto'}"
      ]
     },
     "execution_count": 88,
     "metadata": {},
     "output_type": "execute_result"
    }
   ],
   "source": [
    "# choosing the best output \n",
    "# choosing best combination of passed hyperparameters that \n",
    "# get the best result\n",
    "\n",
    "rs_etc.best_params_"
   ]
  },
  {
   "cell_type": "markdown",
   "id": "5ad0c132",
   "metadata": {},
   "source": [
    "## Answer \n",
    "\n",
    "\n",
    "**THE BEST HYPERPARAMETERS FROM RANDOMIZED SEARCH CV ARE:**\n",
    "\n",
    "      'n_estimators': 1000\n",
    "      'min_samples_split': 5\n",
    "      'min_samples_leaf': 6\n",
    "      'max_features': 'auto'"
   ]
  },
  {
   "cell_type": "markdown",
   "id": "8dbcfbf9",
   "metadata": {},
   "source": [
    "................"
   ]
  },
  {
   "cell_type": "markdown",
   "id": "d35b0394",
   "metadata": {},
   "source": [
    "# Question 16 \n",
    "\n",
    "\n",
    "**Train a new ExtraTreesClassifier Model with the new Hyperparameters from the RandomizedSearchCV (with random_state = 1). Is the accuracy of the new optimal model higher or lower than the initial ExtraTreesClassifier model with no hyperparameter tuning?**"
   ]
  },
  {
   "cell_type": "code",
   "execution_count": 89,
   "id": "85ca5d8c",
   "metadata": {},
   "outputs": [],
   "source": [
    "# Instantiating the a new ExtraTreesClassifier\n",
    "# With the new hyperparameters \n",
    "\n",
    "etc_2 = ExtraTreesClassifier(n_estimators=1000,\n",
    "                            min_samples_split=5,\n",
    "                            min_samples_leaf=6,\n",
    "                            max_features=\"auto\")"
   ]
  },
  {
   "cell_type": "code",
   "execution_count": 90,
   "id": "a0ee769c",
   "metadata": {},
   "outputs": [
    {
     "data": {
      "text/plain": [
       "ExtraTreesClassifier(min_samples_leaf=6, min_samples_split=5, n_estimators=1000)"
      ]
     },
     "execution_count": 90,
     "metadata": {},
     "output_type": "execute_result"
    }
   ],
   "source": [
    "# Fitting the new ExtraTreeClassifier\n",
    "\n",
    "etc_2.fit(X_train_df, y_balanced)"
   ]
  },
  {
   "cell_type": "code",
   "execution_count": 91,
   "id": "604bf695",
   "metadata": {},
   "outputs": [],
   "source": [
    "# Testing the model on the test set \n",
    "\n",
    "etc2_y_preds = etc_2.predict(X_test_df)"
   ]
  },
  {
   "cell_type": "code",
   "execution_count": 92,
   "id": "b06aea4a",
   "metadata": {},
   "outputs": [
    {
     "data": {
      "text/plain": [
       "array([1, 1, 0, ..., 0, 0, 1])"
      ]
     },
     "execution_count": 92,
     "metadata": {},
     "output_type": "execute_result"
    }
   ],
   "source": [
    "etc2_y_preds"
   ]
  },
  {
   "cell_type": "code",
   "execution_count": 93,
   "id": "f684e1bd",
   "metadata": {},
   "outputs": [
    {
     "data": {
      "text/plain": [
       "0.8945"
      ]
     },
     "execution_count": 93,
     "metadata": {},
     "output_type": "execute_result"
    }
   ],
   "source": [
    "# accuracy score\n",
    "\n",
    "etc2_score = accuracy_score(y_test, etc2_y_preds)\n",
    "etc2_score"
   ]
  },
  {
   "cell_type": "markdown",
   "id": "3c2f636c",
   "metadata": {},
   "source": [
    "## Answer \n",
    "\n",
    "**The accuracy of the new optimal model is lower than the initial ExtraTreesClassifier**\n",
    "\n",
    "   `ACCURACY SCORE FOR INITIAL EXTRATREESCLASSIFIER = 0.896`\n",
    "    \n",
    "   `ACCURACY SCORE FOR NEW EXTRATREESCLASSIFIER = 0.8945`"
   ]
  },
  {
   "cell_type": "code",
   "execution_count": null,
   "id": "afa9cacf",
   "metadata": {},
   "outputs": [],
   "source": []
  }
 ],
 "metadata": {
  "kernelspec": {
   "display_name": "Python 3",
   "language": "python",
   "name": "python3"
  },
  "language_info": {
   "codemirror_mode": {
    "name": "ipython",
    "version": 3
   },
   "file_extension": ".py",
   "mimetype": "text/x-python",
   "name": "python",
   "nbconvert_exporter": "python",
   "pygments_lexer": "ipython3",
   "version": "3.8.8"
  }
 },
 "nbformat": 4,
 "nbformat_minor": 5
}
